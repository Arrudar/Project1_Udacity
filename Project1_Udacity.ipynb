{
 "cells": [
  {
   "cell_type": "markdown",
   "metadata": {
    "toc": true
   },
   "source": [
    "<h1>Table of Contents<span class=\"tocSkip\"></span></h1>\n",
    "<div class=\"toc\"><ul class=\"toc-item\"><li><span><a href=\"#Project1---How-is-Brazil-DS-market-evolving?\" data-toc-modified-id=\"Project1---How-is-Brazil-DS-market-evolving?-1\"><span class=\"toc-item-num\">1&nbsp;&nbsp;</span>Project1 - How is Brazil DS market evolving?</a></span><ul class=\"toc-item\"><li><span><a href=\"#Importing-Libraries-and-Dataframes\" data-toc-modified-id=\"Importing-Libraries-and-Dataframes-1.1\"><span class=\"toc-item-num\">1.1&nbsp;&nbsp;</span>Importing Libraries and Dataframes</a></span></li><li><span><a href=\"#Unify-all-3-dataframes\" data-toc-modified-id=\"Unify-all-3-dataframes-1.2\"><span class=\"toc-item-num\">1.2&nbsp;&nbsp;</span>Unify all 3 dataframes</a></span></li><li><span><a href=\"#Clean-Rows-with-no-Countries\" data-toc-modified-id=\"Clean-Rows-with-no-Countries-1.3\"><span class=\"toc-item-num\">1.3&nbsp;&nbsp;</span>Clean Rows with no Countries</a></span></li><li><span><a href=\"#Key-Questions\" data-toc-modified-id=\"Key-Questions-1.4\"><span class=\"toc-item-num\">1.4&nbsp;&nbsp;</span>Key Questions</a></span><ul class=\"toc-item\"><li><span><a href=\"#Brazil-respondents-over-time?\" data-toc-modified-id=\"Brazil-respondents-over-time?-1.4.1\"><span class=\"toc-item-num\">1.4.1&nbsp;&nbsp;</span>Brazil respondents over time?</a></span></li><li><span><a href=\"#Salary-and-Job-Satisfaction-of-Brazillian-DS-over-time?\" data-toc-modified-id=\"Salary-and-Job-Satisfaction-of-Brazillian-DS-over-time?-1.4.2\"><span class=\"toc-item-num\">1.4.2&nbsp;&nbsp;</span>Salary and Job Satisfaction of Brazillian DS over time?</a></span></li><li><span><a href=\"#How-is-the-Brazillian-DS-Profile?\" data-toc-modified-id=\"How-is-the-Brazillian-DS-Profile?-1.4.3\"><span class=\"toc-item-num\">1.4.3&nbsp;&nbsp;</span>How is the Brazillian DS Profile?</a></span></li></ul></li></ul></li></ul></div>"
   ]
  },
  {
   "cell_type": "markdown",
   "metadata": {
    "ExecuteTime": {
     "end_time": "2020-05-03T02:48:23.118671Z",
     "start_time": "2020-05-03T02:48:23.115670Z"
    },
    "code_folding": [
     0
    ]
   },
   "source": [
    "# Project1 - How is Brazil DS market evolving?  "
   ]
  },
  {
   "cell_type": "markdown",
   "metadata": {},
   "source": [
    "## Importing Libraries and Dataframes "
   ]
  },
  {
   "cell_type": "code",
   "execution_count": 1,
   "metadata": {
    "ExecuteTime": {
     "end_time": "2020-11-06T15:59:43.199557Z",
     "start_time": "2020-11-06T15:59:39.047221Z"
    }
   },
   "outputs": [],
   "source": [
    "#Importing libraries\n",
    "\n",
    "import numpy as np\n",
    "import pandas as pd\n",
    "import matplotlib.pyplot as plt\n",
    "from sklearn.linear_model import LinearRegression\n",
    "from sklearn.model_selection import train_test_split\n",
    "from sklearn.metrics import r2_score, mean_squared_error\n",
    "import seaborn as sns\n",
    "%matplotlib inline"
   ]
  },
  {
   "cell_type": "code",
   "execution_count": 2,
   "metadata": {
    "ExecuteTime": {
     "end_time": "2020-11-06T15:59:49.269109Z",
     "start_time": "2020-11-06T15:59:43.201455Z"
    }
   },
   "outputs": [
    {
     "name": "stderr",
     "output_type": "stream",
     "text": [
      "C:\\Users\\Rico Pedro\\AppData\\Local\\Continuum\\anaconda3\\lib\\site-packages\\IPython\\core\\interactiveshell.py:3057: DtypeWarning: Columns (8,12,13,14,15,16,50,51,52,53,55,56,57,58,59,60,61,62,63,64,65,66,67,68,69,70,71,72,73,74,75,76,77,78,79,80,81,82,83,84,85,93,94,95,96,97,98,99,100,101,102,103,104,105,106,107,108,109,110,111,112,113,114,115,116,117,118,119,120,121,122,123,124,125,126,127,128) have mixed types. Specify dtype option on import or set low_memory=False.\n",
      "  interactivity=interactivity, compiler=compiler, result=result)\n"
     ]
    }
   ],
   "source": [
    "#Importing Datasets (2017, 2018 and 2019)\n",
    "#Font:https://insights.stackoverflow.com/survey/\n",
    "\n",
    "df2017 = pd.read_csv('data/survey_results_public_2017.csv')\n",
    "df2018 = pd.read_csv('data/survey_results_public_2018.csv')\n",
    "df2019 = pd.read_csv('data/survey_results_public_2019.csv')\n"
   ]
  },
  {
   "cell_type": "code",
   "execution_count": 3,
   "metadata": {
    "ExecuteTime": {
     "end_time": "2020-11-06T15:59:49.273111Z",
     "start_time": "2020-11-06T15:59:49.271111Z"
    }
   },
   "outputs": [],
   "source": [
    "#Understand Dataset\n",
    "#df2017.columns.tolist()"
   ]
  },
  {
   "cell_type": "markdown",
   "metadata": {},
   "source": [
    "## Unify all 3 dataframes"
   ]
  },
  {
   "cell_type": "code",
   "execution_count": 4,
   "metadata": {
    "ExecuteTime": {
     "end_time": "2020-11-06T15:59:49.321147Z",
     "start_time": "2020-11-06T15:59:49.275111Z"
    }
   },
   "outputs": [
    {
     "data": {
      "text/html": [
       "<div>\n",
       "<style scoped>\n",
       "    .dataframe tbody tr th:only-of-type {\n",
       "        vertical-align: middle;\n",
       "    }\n",
       "\n",
       "    .dataframe tbody tr th {\n",
       "        vertical-align: top;\n",
       "    }\n",
       "\n",
       "    .dataframe thead th {\n",
       "        text-align: right;\n",
       "    }\n",
       "</style>\n",
       "<table border=\"1\" class=\"dataframe\">\n",
       "  <thead>\n",
       "    <tr style=\"text-align: right;\">\n",
       "      <th></th>\n",
       "      <th>Year</th>\n",
       "      <th>Country</th>\n",
       "      <th>EmploymentStatus</th>\n",
       "      <th>FormalEducation</th>\n",
       "      <th>CompanySize</th>\n",
       "      <th>DeveloperType</th>\n",
       "      <th>YearsProgram</th>\n",
       "      <th>CareerSatisfaction</th>\n",
       "      <th>JobSeekingStatus</th>\n",
       "      <th>HoursPerWeek</th>\n",
       "      <th>Currency</th>\n",
       "      <th>CousinEducation</th>\n",
       "      <th>Salary</th>\n",
       "      <th>JobSatisfaction</th>\n",
       "    </tr>\n",
       "  </thead>\n",
       "  <tbody>\n",
       "    <tr>\n",
       "      <th>0</th>\n",
       "      <td>2017</td>\n",
       "      <td>United States</td>\n",
       "      <td>Not employed, and not looking for work</td>\n",
       "      <td>Secondary school</td>\n",
       "      <td>NaN</td>\n",
       "      <td>NaN</td>\n",
       "      <td>2 to 3 years</td>\n",
       "      <td>NaN</td>\n",
       "      <td>I'm not actively looking, but I am open to new...</td>\n",
       "      <td>0.0</td>\n",
       "      <td>NaN</td>\n",
       "      <td>NaN</td>\n",
       "      <td>NaN</td>\n",
       "      <td>NaN</td>\n",
       "    </tr>\n",
       "    <tr>\n",
       "      <th>1</th>\n",
       "      <td>2017</td>\n",
       "      <td>United Kingdom</td>\n",
       "      <td>Employed part-time</td>\n",
       "      <td>Some college/university study without earning ...</td>\n",
       "      <td>20 to 99 employees</td>\n",
       "      <td>NaN</td>\n",
       "      <td>9 to 10 years</td>\n",
       "      <td>NaN</td>\n",
       "      <td>NaN</td>\n",
       "      <td>NaN</td>\n",
       "      <td>British pounds sterling (£)</td>\n",
       "      <td>NaN</td>\n",
       "      <td>NaN</td>\n",
       "      <td>NaN</td>\n",
       "    </tr>\n",
       "    <tr>\n",
       "      <th>2</th>\n",
       "      <td>2017</td>\n",
       "      <td>United Kingdom</td>\n",
       "      <td>Employed full-time</td>\n",
       "      <td>Bachelor's degree</td>\n",
       "      <td>10,000 or more employees</td>\n",
       "      <td>Other</td>\n",
       "      <td>20 or more years</td>\n",
       "      <td>8.0</td>\n",
       "      <td>NaN</td>\n",
       "      <td>NaN</td>\n",
       "      <td>British pounds sterling (£)</td>\n",
       "      <td>NaN</td>\n",
       "      <td>113750.0</td>\n",
       "      <td>9.0</td>\n",
       "    </tr>\n",
       "    <tr>\n",
       "      <th>3</th>\n",
       "      <td>2017</td>\n",
       "      <td>United States</td>\n",
       "      <td>Employed full-time</td>\n",
       "      <td>Doctoral degree</td>\n",
       "      <td>10,000 or more employees</td>\n",
       "      <td>NaN</td>\n",
       "      <td>14 to 15 years</td>\n",
       "      <td>6.0</td>\n",
       "      <td>I am actively looking for a job</td>\n",
       "      <td>5.0</td>\n",
       "      <td>NaN</td>\n",
       "      <td>NaN</td>\n",
       "      <td>NaN</td>\n",
       "      <td>3.0</td>\n",
       "    </tr>\n",
       "    <tr>\n",
       "      <th>4</th>\n",
       "      <td>2017</td>\n",
       "      <td>Switzerland</td>\n",
       "      <td>Employed full-time</td>\n",
       "      <td>Master's degree</td>\n",
       "      <td>10 to 19 employees</td>\n",
       "      <td>Mobile developer; Graphics programming; Deskto...</td>\n",
       "      <td>20 or more years</td>\n",
       "      <td>6.0</td>\n",
       "      <td>NaN</td>\n",
       "      <td>NaN</td>\n",
       "      <td>NaN</td>\n",
       "      <td>NaN</td>\n",
       "      <td>NaN</td>\n",
       "      <td>8.0</td>\n",
       "    </tr>\n",
       "  </tbody>\n",
       "</table>\n",
       "</div>"
      ],
      "text/plain": [
       "   Year         Country                        EmploymentStatus  \\\n",
       "0  2017   United States  Not employed, and not looking for work   \n",
       "1  2017  United Kingdom                      Employed part-time   \n",
       "2  2017  United Kingdom                      Employed full-time   \n",
       "3  2017   United States                      Employed full-time   \n",
       "4  2017     Switzerland                      Employed full-time   \n",
       "\n",
       "                                     FormalEducation  \\\n",
       "0                                   Secondary school   \n",
       "1  Some college/university study without earning ...   \n",
       "2                                  Bachelor's degree   \n",
       "3                                    Doctoral degree   \n",
       "4                                    Master's degree   \n",
       "\n",
       "                CompanySize  \\\n",
       "0                       NaN   \n",
       "1        20 to 99 employees   \n",
       "2  10,000 or more employees   \n",
       "3  10,000 or more employees   \n",
       "4        10 to 19 employees   \n",
       "\n",
       "                                       DeveloperType      YearsProgram  \\\n",
       "0                                                NaN      2 to 3 years   \n",
       "1                                                NaN     9 to 10 years   \n",
       "2                                              Other  20 or more years   \n",
       "3                                                NaN    14 to 15 years   \n",
       "4  Mobile developer; Graphics programming; Deskto...  20 or more years   \n",
       "\n",
       "   CareerSatisfaction                                   JobSeekingStatus  \\\n",
       "0                 NaN  I'm not actively looking, but I am open to new...   \n",
       "1                 NaN                                                NaN   \n",
       "2                 8.0                                                NaN   \n",
       "3                 6.0                    I am actively looking for a job   \n",
       "4                 6.0                                                NaN   \n",
       "\n",
       "   HoursPerWeek                     Currency CousinEducation    Salary  \\\n",
       "0           0.0                          NaN             NaN       NaN   \n",
       "1           NaN  British pounds sterling (£)             NaN       NaN   \n",
       "2           NaN  British pounds sterling (£)             NaN  113750.0   \n",
       "3           5.0                          NaN             NaN       NaN   \n",
       "4           NaN                          NaN             NaN       NaN   \n",
       "\n",
       "   JobSatisfaction  \n",
       "0              NaN  \n",
       "1              NaN  \n",
       "2              9.0  \n",
       "3              3.0  \n",
       "4              8.0  "
      ]
     },
     "execution_count": 4,
     "metadata": {},
     "output_type": "execute_result"
    }
   ],
   "source": [
    "#Create a subset of the datasets only with relevant information + add Year\n",
    "\n",
    "#Selected data to study Brazil Market:\n",
    "#Country, Employment, FormalEducation, CompanySize, CompanyType, YearsProgram, \n",
    "#CareerSatisfaction, JobSeekingStatys, HoursPerWeek, Currency, \n",
    "#CousinEducation, Salary, ExpectedSalary\n",
    "\n",
    "df17 = df2017[['Country', 'EmploymentStatus', 'FormalEducation', 'CompanySize', 'DeveloperType', 'YearsProgram', 'CareerSatisfaction', 'JobSeekingStatus', 'HoursPerWeek', 'Currency', 'CousinEducation', 'Salary', 'JobSatisfaction']].copy()\n",
    "df17.insert(0, 'Year', 2017)\n",
    "\n",
    "\n",
    "df17.head()"
   ]
  },
  {
   "cell_type": "code",
   "execution_count": 62,
   "metadata": {
    "ExecuteTime": {
     "end_time": "2020-11-09T13:26:27.433635Z",
     "start_time": "2020-11-09T13:26:27.430635Z"
    }
   },
   "outputs": [],
   "source": [
    "#Understand Dataset\n",
    "#df2018.columns.tolist()\n"
   ]
  },
  {
   "cell_type": "code",
   "execution_count": null,
   "metadata": {},
   "outputs": [],
   "source": []
  },
  {
   "cell_type": "code",
   "execution_count": 8,
   "metadata": {
    "ExecuteTime": {
     "end_time": "2020-11-06T15:59:57.848600Z",
     "start_time": "2020-11-06T15:59:57.809601Z"
    }
   },
   "outputs": [
    {
     "data": {
      "text/html": [
       "<div>\n",
       "<style scoped>\n",
       "    .dataframe tbody tr th:only-of-type {\n",
       "        vertical-align: middle;\n",
       "    }\n",
       "\n",
       "    .dataframe tbody tr th {\n",
       "        vertical-align: top;\n",
       "    }\n",
       "\n",
       "    .dataframe thead th {\n",
       "        text-align: right;\n",
       "    }\n",
       "</style>\n",
       "<table border=\"1\" class=\"dataframe\">\n",
       "  <thead>\n",
       "    <tr style=\"text-align: right;\">\n",
       "      <th></th>\n",
       "      <th>Year</th>\n",
       "      <th>Country</th>\n",
       "      <th>Employment</th>\n",
       "      <th>FormalEducation</th>\n",
       "      <th>CompanySize</th>\n",
       "      <th>DevType</th>\n",
       "      <th>YearsCoding</th>\n",
       "      <th>CareerSatisfaction</th>\n",
       "      <th>JobSearchStatus</th>\n",
       "      <th>HoursComputer</th>\n",
       "      <th>Currency</th>\n",
       "      <th>SelfTaughtTypes</th>\n",
       "      <th>Salary</th>\n",
       "      <th>JobSatisfaction</th>\n",
       "    </tr>\n",
       "  </thead>\n",
       "  <tbody>\n",
       "    <tr>\n",
       "      <th>0</th>\n",
       "      <td>2018</td>\n",
       "      <td>Kenya</td>\n",
       "      <td>Employed part-time</td>\n",
       "      <td>Bachelor’s degree (BA, BS, B.Eng., etc.)</td>\n",
       "      <td>20 to 99 employees</td>\n",
       "      <td>Full-stack developer</td>\n",
       "      <td>3-5 years</td>\n",
       "      <td>Extremely satisfied</td>\n",
       "      <td>I’m not actively looking, but I am open to new...</td>\n",
       "      <td>9 - 12 hours</td>\n",
       "      <td>NaN</td>\n",
       "      <td>The official documentation and/or standards fo...</td>\n",
       "      <td>NaN</td>\n",
       "      <td>Extremely satisfied</td>\n",
       "    </tr>\n",
       "    <tr>\n",
       "      <th>1</th>\n",
       "      <td>2018</td>\n",
       "      <td>United Kingdom</td>\n",
       "      <td>Employed full-time</td>\n",
       "      <td>Bachelor’s degree (BA, BS, B.Eng., etc.)</td>\n",
       "      <td>10,000 or more employees</td>\n",
       "      <td>Database administrator;DevOps specialist;Full-...</td>\n",
       "      <td>30 or more years</td>\n",
       "      <td>Neither satisfied nor dissatisfied</td>\n",
       "      <td>I am actively looking for a job</td>\n",
       "      <td>5 - 8 hours</td>\n",
       "      <td>British pounds sterling (£)</td>\n",
       "      <td>The official documentation and/or standards fo...</td>\n",
       "      <td>51000</td>\n",
       "      <td>Moderately dissatisfied</td>\n",
       "    </tr>\n",
       "    <tr>\n",
       "      <th>2</th>\n",
       "      <td>2018</td>\n",
       "      <td>United States</td>\n",
       "      <td>Employed full-time</td>\n",
       "      <td>Associate degree</td>\n",
       "      <td>20 to 99 employees</td>\n",
       "      <td>Engineering manager;Full-stack developer</td>\n",
       "      <td>24-26 years</td>\n",
       "      <td>Moderately satisfied</td>\n",
       "      <td>I’m not actively looking, but I am open to new...</td>\n",
       "      <td>NaN</td>\n",
       "      <td>NaN</td>\n",
       "      <td>NaN</td>\n",
       "      <td>NaN</td>\n",
       "      <td>Moderately satisfied</td>\n",
       "    </tr>\n",
       "    <tr>\n",
       "      <th>3</th>\n",
       "      <td>2018</td>\n",
       "      <td>United States</td>\n",
       "      <td>Employed full-time</td>\n",
       "      <td>Bachelor’s degree (BA, BS, B.Eng., etc.)</td>\n",
       "      <td>100 to 499 employees</td>\n",
       "      <td>Full-stack developer</td>\n",
       "      <td>18-20 years</td>\n",
       "      <td>Slightly dissatisfied</td>\n",
       "      <td>I’m not actively looking, but I am open to new...</td>\n",
       "      <td>9 - 12 hours</td>\n",
       "      <td>U.S. dollars ($)</td>\n",
       "      <td>The official documentation and/or standards fo...</td>\n",
       "      <td>NaN</td>\n",
       "      <td>Neither satisfied nor dissatisfied</td>\n",
       "    </tr>\n",
       "    <tr>\n",
       "      <th>4</th>\n",
       "      <td>2018</td>\n",
       "      <td>South Africa</td>\n",
       "      <td>Employed full-time</td>\n",
       "      <td>Some college/university study without earning ...</td>\n",
       "      <td>10,000 or more employees</td>\n",
       "      <td>Data or business analyst;Desktop or enterprise...</td>\n",
       "      <td>6-8 years</td>\n",
       "      <td>Moderately satisfied</td>\n",
       "      <td>I’m not actively looking, but I am open to new...</td>\n",
       "      <td>Over 12 hours</td>\n",
       "      <td>South African rands (R)</td>\n",
       "      <td>The official documentation and/or standards fo...</td>\n",
       "      <td>260000</td>\n",
       "      <td>Slightly satisfied</td>\n",
       "    </tr>\n",
       "  </tbody>\n",
       "</table>\n",
       "</div>"
      ],
      "text/plain": [
       "   Year         Country          Employment  \\\n",
       "0  2018           Kenya  Employed part-time   \n",
       "1  2018  United Kingdom  Employed full-time   \n",
       "2  2018   United States  Employed full-time   \n",
       "3  2018   United States  Employed full-time   \n",
       "4  2018    South Africa  Employed full-time   \n",
       "\n",
       "                                     FormalEducation  \\\n",
       "0           Bachelor’s degree (BA, BS, B.Eng., etc.)   \n",
       "1           Bachelor’s degree (BA, BS, B.Eng., etc.)   \n",
       "2                                   Associate degree   \n",
       "3           Bachelor’s degree (BA, BS, B.Eng., etc.)   \n",
       "4  Some college/university study without earning ...   \n",
       "\n",
       "                CompanySize  \\\n",
       "0        20 to 99 employees   \n",
       "1  10,000 or more employees   \n",
       "2        20 to 99 employees   \n",
       "3      100 to 499 employees   \n",
       "4  10,000 or more employees   \n",
       "\n",
       "                                             DevType       YearsCoding  \\\n",
       "0                               Full-stack developer         3-5 years   \n",
       "1  Database administrator;DevOps specialist;Full-...  30 or more years   \n",
       "2           Engineering manager;Full-stack developer       24-26 years   \n",
       "3                               Full-stack developer       18-20 years   \n",
       "4  Data or business analyst;Desktop or enterprise...         6-8 years   \n",
       "\n",
       "                   CareerSatisfaction  \\\n",
       "0                 Extremely satisfied   \n",
       "1  Neither satisfied nor dissatisfied   \n",
       "2                Moderately satisfied   \n",
       "3               Slightly dissatisfied   \n",
       "4                Moderately satisfied   \n",
       "\n",
       "                                     JobSearchStatus  HoursComputer  \\\n",
       "0  I’m not actively looking, but I am open to new...   9 - 12 hours   \n",
       "1                    I am actively looking for a job    5 - 8 hours   \n",
       "2  I’m not actively looking, but I am open to new...            NaN   \n",
       "3  I’m not actively looking, but I am open to new...   9 - 12 hours   \n",
       "4  I’m not actively looking, but I am open to new...  Over 12 hours   \n",
       "\n",
       "                      Currency  \\\n",
       "0                          NaN   \n",
       "1  British pounds sterling (£)   \n",
       "2                          NaN   \n",
       "3             U.S. dollars ($)   \n",
       "4      South African rands (R)   \n",
       "\n",
       "                                     SelfTaughtTypes  Salary  \\\n",
       "0  The official documentation and/or standards fo...     NaN   \n",
       "1  The official documentation and/or standards fo...   51000   \n",
       "2                                                NaN     NaN   \n",
       "3  The official documentation and/or standards fo...     NaN   \n",
       "4  The official documentation and/or standards fo...  260000   \n",
       "\n",
       "                      JobSatisfaction  \n",
       "0                 Extremely satisfied  \n",
       "1             Moderately dissatisfied  \n",
       "2                Moderately satisfied  \n",
       "3  Neither satisfied nor dissatisfied  \n",
       "4                  Slightly satisfied  "
      ]
     },
     "execution_count": 8,
     "metadata": {},
     "output_type": "execute_result"
    }
   ],
   "source": [
    "#Repeat previous process to 2018\n",
    "\n",
    "#Selected data to study Brazil Market:\n",
    "#Country, Employment, FormalEducation, CompanySize, CompanyType, YearsProgram, \n",
    "#CareerSatisfaction, JobSeekingStatys, HoursPerWeek, Currency, \n",
    "#CousinEducation, Salary\n",
    "\n",
    "# !!!! There is no data for HoursPerWeek  (Should consider a proxy from hours on computer?)\n",
    "# !!!! There is no data for CousinEducation  (Should consider a proxy from SelfTaughTypes?)\n",
    "\n",
    "df18 = df2018[['Country', 'Employment', 'FormalEducation', 'CompanySize', 'DevType', 'YearsCoding', 'CareerSatisfaction', 'JobSearchStatus', 'HoursComputer', 'Currency', 'SelfTaughtTypes', 'Salary', 'JobSatisfaction']].copy()\n",
    "df18.insert(0, 'Year', 2018)\n",
    "\n",
    "\n",
    "df18.head()"
   ]
  },
  {
   "cell_type": "code",
   "execution_count": 9,
   "metadata": {
    "ExecuteTime": {
     "end_time": "2020-11-06T16:00:00.121837Z",
     "start_time": "2020-11-06T16:00:00.116838Z"
    }
   },
   "outputs": [],
   "source": [
    "#Understand Dataset\n",
    "#df2019.columns.tolist()"
   ]
  },
  {
   "cell_type": "code",
   "execution_count": 10,
   "metadata": {
    "ExecuteTime": {
     "end_time": "2020-11-06T16:00:02.204674Z",
     "start_time": "2020-11-06T16:00:02.168699Z"
    },
    "scrolled": false
   },
   "outputs": [
    {
     "data": {
      "text/html": [
       "<div>\n",
       "<style scoped>\n",
       "    .dataframe tbody tr th:only-of-type {\n",
       "        vertical-align: middle;\n",
       "    }\n",
       "\n",
       "    .dataframe tbody tr th {\n",
       "        vertical-align: top;\n",
       "    }\n",
       "\n",
       "    .dataframe thead th {\n",
       "        text-align: right;\n",
       "    }\n",
       "</style>\n",
       "<table border=\"1\" class=\"dataframe\">\n",
       "  <thead>\n",
       "    <tr style=\"text-align: right;\">\n",
       "      <th></th>\n",
       "      <th>Year</th>\n",
       "      <th>Country</th>\n",
       "      <th>Employment</th>\n",
       "      <th>EdLevel</th>\n",
       "      <th>OrgSize</th>\n",
       "      <th>DevType</th>\n",
       "      <th>YearsCodePro</th>\n",
       "      <th>CareerSat</th>\n",
       "      <th>JobSeek</th>\n",
       "      <th>WorkWeekHrs</th>\n",
       "      <th>CurrencyDesc</th>\n",
       "      <th>LastInt</th>\n",
       "      <th>CompTotal</th>\n",
       "      <th>JobSat</th>\n",
       "    </tr>\n",
       "  </thead>\n",
       "  <tbody>\n",
       "    <tr>\n",
       "      <th>0</th>\n",
       "      <td>2019</td>\n",
       "      <td>United Kingdom</td>\n",
       "      <td>Not employed, and not looking for work</td>\n",
       "      <td>Primary/elementary school</td>\n",
       "      <td>NaN</td>\n",
       "      <td>NaN</td>\n",
       "      <td>NaN</td>\n",
       "      <td>NaN</td>\n",
       "      <td>NaN</td>\n",
       "      <td>NaN</td>\n",
       "      <td>NaN</td>\n",
       "      <td>NaN</td>\n",
       "      <td>NaN</td>\n",
       "      <td>NaN</td>\n",
       "    </tr>\n",
       "    <tr>\n",
       "      <th>1</th>\n",
       "      <td>2019</td>\n",
       "      <td>Bosnia and Herzegovina</td>\n",
       "      <td>Not employed, but looking for work</td>\n",
       "      <td>Secondary school (e.g. American high school, G...</td>\n",
       "      <td>NaN</td>\n",
       "      <td>Developer, desktop or enterprise applications;...</td>\n",
       "      <td>NaN</td>\n",
       "      <td>NaN</td>\n",
       "      <td>I am actively looking for a job</td>\n",
       "      <td>NaN</td>\n",
       "      <td>NaN</td>\n",
       "      <td>NaN</td>\n",
       "      <td>NaN</td>\n",
       "      <td>NaN</td>\n",
       "    </tr>\n",
       "    <tr>\n",
       "      <th>2</th>\n",
       "      <td>2019</td>\n",
       "      <td>Thailand</td>\n",
       "      <td>Employed full-time</td>\n",
       "      <td>Bachelor’s degree (BA, BS, B.Eng., etc.)</td>\n",
       "      <td>100 to 499 employees</td>\n",
       "      <td>Designer;Developer, back-end;Developer, front-...</td>\n",
       "      <td>1</td>\n",
       "      <td>Slightly satisfied</td>\n",
       "      <td>I’m not actively looking, but I am open to new...</td>\n",
       "      <td>40.0</td>\n",
       "      <td>Thai baht</td>\n",
       "      <td>Interview with people in peer roles</td>\n",
       "      <td>23000.0</td>\n",
       "      <td>Slightly satisfied</td>\n",
       "    </tr>\n",
       "    <tr>\n",
       "      <th>3</th>\n",
       "      <td>2019</td>\n",
       "      <td>United States</td>\n",
       "      <td>Employed full-time</td>\n",
       "      <td>Bachelor’s degree (BA, BS, B.Eng., etc.)</td>\n",
       "      <td>100 to 499 employees</td>\n",
       "      <td>Developer, full-stack</td>\n",
       "      <td>Less than 1 year</td>\n",
       "      <td>Very satisfied</td>\n",
       "      <td>I am not interested in new job opportunities</td>\n",
       "      <td>80.0</td>\n",
       "      <td>United States dollar</td>\n",
       "      <td>Write code by hand (e.g., on a whiteboard);Int...</td>\n",
       "      <td>61000.0</td>\n",
       "      <td>Slightly satisfied</td>\n",
       "    </tr>\n",
       "    <tr>\n",
       "      <th>4</th>\n",
       "      <td>2019</td>\n",
       "      <td>Ukraine</td>\n",
       "      <td>Employed full-time</td>\n",
       "      <td>Bachelor’s degree (BA, BS, B.Eng., etc.)</td>\n",
       "      <td>10,000 or more employees</td>\n",
       "      <td>Academic researcher;Developer, desktop or ente...</td>\n",
       "      <td>9</td>\n",
       "      <td>Very dissatisfied</td>\n",
       "      <td>I am not interested in new job opportunities</td>\n",
       "      <td>55.0</td>\n",
       "      <td>Ukrainian hryvnia</td>\n",
       "      <td>Write any code;Write code by hand (e.g., on a ...</td>\n",
       "      <td>NaN</td>\n",
       "      <td>Slightly dissatisfied</td>\n",
       "    </tr>\n",
       "  </tbody>\n",
       "</table>\n",
       "</div>"
      ],
      "text/plain": [
       "   Year                 Country                              Employment  \\\n",
       "0  2019          United Kingdom  Not employed, and not looking for work   \n",
       "1  2019  Bosnia and Herzegovina      Not employed, but looking for work   \n",
       "2  2019                Thailand                      Employed full-time   \n",
       "3  2019           United States                      Employed full-time   \n",
       "4  2019                 Ukraine                      Employed full-time   \n",
       "\n",
       "                                             EdLevel  \\\n",
       "0                          Primary/elementary school   \n",
       "1  Secondary school (e.g. American high school, G...   \n",
       "2           Bachelor’s degree (BA, BS, B.Eng., etc.)   \n",
       "3           Bachelor’s degree (BA, BS, B.Eng., etc.)   \n",
       "4           Bachelor’s degree (BA, BS, B.Eng., etc.)   \n",
       "\n",
       "                    OrgSize  \\\n",
       "0                       NaN   \n",
       "1                       NaN   \n",
       "2      100 to 499 employees   \n",
       "3      100 to 499 employees   \n",
       "4  10,000 or more employees   \n",
       "\n",
       "                                             DevType      YearsCodePro  \\\n",
       "0                                                NaN               NaN   \n",
       "1  Developer, desktop or enterprise applications;...               NaN   \n",
       "2  Designer;Developer, back-end;Developer, front-...                 1   \n",
       "3                              Developer, full-stack  Less than 1 year   \n",
       "4  Academic researcher;Developer, desktop or ente...                 9   \n",
       "\n",
       "            CareerSat                                            JobSeek  \\\n",
       "0                 NaN                                                NaN   \n",
       "1                 NaN                    I am actively looking for a job   \n",
       "2  Slightly satisfied  I’m not actively looking, but I am open to new...   \n",
       "3      Very satisfied       I am not interested in new job opportunities   \n",
       "4   Very dissatisfied       I am not interested in new job opportunities   \n",
       "\n",
       "   WorkWeekHrs          CurrencyDesc  \\\n",
       "0          NaN                   NaN   \n",
       "1          NaN                   NaN   \n",
       "2         40.0             Thai baht   \n",
       "3         80.0  United States dollar   \n",
       "4         55.0     Ukrainian hryvnia   \n",
       "\n",
       "                                             LastInt  CompTotal  \\\n",
       "0                                                NaN        NaN   \n",
       "1                                                NaN        NaN   \n",
       "2                Interview with people in peer roles    23000.0   \n",
       "3  Write code by hand (e.g., on a whiteboard);Int...    61000.0   \n",
       "4  Write any code;Write code by hand (e.g., on a ...        NaN   \n",
       "\n",
       "                  JobSat  \n",
       "0                    NaN  \n",
       "1                    NaN  \n",
       "2     Slightly satisfied  \n",
       "3     Slightly satisfied  \n",
       "4  Slightly dissatisfied  "
      ]
     },
     "execution_count": 10,
     "metadata": {},
     "output_type": "execute_result"
    }
   ],
   "source": [
    "#Repeat previous process to 2019\n",
    "\n",
    "#Selected data to study Brazil Market:\n",
    "#Country, Employment, FormalEducation, CompanySize, CompanyType, YearsProgram, \n",
    "#CareerSatisfaction, JobSeekingStatys, HoursPerWeek, Currency, \n",
    "#CousinEducation, Salary\n",
    "\n",
    "# !!!! There is no data for HoursPerWeek  (Should consider a proxy from hours on computer?)\n",
    "# !!!! There is no data for CousinEducation  (Should consider a proxy from LastInt?)\n",
    "\n",
    "df19 = df2019[['Country', 'Employment', 'EdLevel', 'OrgSize', 'DevType', 'YearsCodePro', 'CareerSat', 'JobSeek', 'WorkWeekHrs', 'CurrencyDesc', 'LastInt', 'CompTotal', 'JobSat']].copy()\n",
    "df19.insert(0, 'Year', 2019)\n",
    "\n",
    "df19.head()"
   ]
  },
  {
   "cell_type": "code",
   "execution_count": 64,
   "metadata": {
    "ExecuteTime": {
     "end_time": "2020-11-09T13:27:01.167216Z",
     "start_time": "2020-11-09T13:27:01.129845Z"
    }
   },
   "outputs": [
    {
     "name": "stdout",
     "output_type": "stream",
     "text": [
      "(51392, 14)\n",
      "(98855, 14)\n",
      "(88883, 14)\n"
     ]
    }
   ],
   "source": [
    "#Make all columns (of all data sets) with same name -> and merge all datasets in one\n",
    "\n",
    "df17.rename(columns={\"EmploymentStatus\": \"Employment\", \"DeveloperType\": \"DevType\", \"YearsProgram\":\"YearsCoding\", \"CousinEducation\":\"HowToPrepare\"}, inplace=True)\n",
    "df18.rename(columns={\"EdLevel\": \"FormalEducation\", \"OrgSize\": \"CompanySize\", \"YearsCodePro\": \"YearsCoding\", \"CareerSat\": \"CareerSatisfaction\", \"JobSearchStatus\": \"JobSeekingStatus\", \"HoursComputer\": \"HoursPerWeek\", \"CurrencyDesc\": \"Currency\",'SelfTaughtTypes':'HowToPrepare','CompTotal':'Salary', \"JobSat\": \"JobSatisfaction\"}, inplace=True)\n",
    "df19.rename(columns={\"EdLevel\": \"FormalEducation\", \"OrgSize\": \"CompanySize\", \"YearsCodePro\": \"YearsCoding\", \"CareerSat\": \"CareerSatisfaction\", \"JobSeek\": \"JobSeekingStatus\", \"WorkWeekHrs\": \"HoursPerWeek\", \"CurrencyDesc\": \"Currency\",'LastInt':'HowToPrepare','CompTotal':'Salary', \"JobSat\": \"JobSatisfaction\"}, inplace=True)\n",
    "\n",
    "print(df17.shape)\n",
    "print(df18.shape)\n",
    "print(df19.shape)"
   ]
  },
  {
   "cell_type": "code",
   "execution_count": 65,
   "metadata": {
    "ExecuteTime": {
     "end_time": "2020-11-09T13:27:16.418283Z",
     "start_time": "2020-11-09T13:27:16.341432Z"
    }
   },
   "outputs": [
    {
     "data": {
      "text/html": [
       "<div>\n",
       "<style scoped>\n",
       "    .dataframe tbody tr th:only-of-type {\n",
       "        vertical-align: middle;\n",
       "    }\n",
       "\n",
       "    .dataframe tbody tr th {\n",
       "        vertical-align: top;\n",
       "    }\n",
       "\n",
       "    .dataframe thead th {\n",
       "        text-align: right;\n",
       "    }\n",
       "</style>\n",
       "<table border=\"1\" class=\"dataframe\">\n",
       "  <thead>\n",
       "    <tr style=\"text-align: right;\">\n",
       "      <th></th>\n",
       "      <th>Year</th>\n",
       "      <th>Country</th>\n",
       "      <th>Employment</th>\n",
       "      <th>FormalEducation</th>\n",
       "      <th>CompanySize</th>\n",
       "      <th>DevType</th>\n",
       "      <th>YearsCoding</th>\n",
       "      <th>CareerSatisfaction</th>\n",
       "      <th>JobSeekingStatus</th>\n",
       "      <th>HoursPerWeek</th>\n",
       "      <th>Currency</th>\n",
       "      <th>HowToPrepare</th>\n",
       "      <th>Salary</th>\n",
       "      <th>JobSatisfaction</th>\n",
       "    </tr>\n",
       "  </thead>\n",
       "  <tbody>\n",
       "    <tr>\n",
       "      <th>0</th>\n",
       "      <td>2017</td>\n",
       "      <td>United States</td>\n",
       "      <td>Not employed, and not looking for work</td>\n",
       "      <td>Secondary school</td>\n",
       "      <td>NaN</td>\n",
       "      <td>NaN</td>\n",
       "      <td>2 to 3 years</td>\n",
       "      <td>NaN</td>\n",
       "      <td>I'm not actively looking, but I am open to new...</td>\n",
       "      <td>0</td>\n",
       "      <td>NaN</td>\n",
       "      <td>NaN</td>\n",
       "      <td>NaN</td>\n",
       "      <td>NaN</td>\n",
       "    </tr>\n",
       "    <tr>\n",
       "      <th>1</th>\n",
       "      <td>2017</td>\n",
       "      <td>United Kingdom</td>\n",
       "      <td>Employed part-time</td>\n",
       "      <td>Some college/university study without earning ...</td>\n",
       "      <td>20 to 99 employees</td>\n",
       "      <td>NaN</td>\n",
       "      <td>9 to 10 years</td>\n",
       "      <td>NaN</td>\n",
       "      <td>NaN</td>\n",
       "      <td>NaN</td>\n",
       "      <td>British pounds sterling (£)</td>\n",
       "      <td>NaN</td>\n",
       "      <td>NaN</td>\n",
       "      <td>NaN</td>\n",
       "    </tr>\n",
       "    <tr>\n",
       "      <th>2</th>\n",
       "      <td>2017</td>\n",
       "      <td>United Kingdom</td>\n",
       "      <td>Employed full-time</td>\n",
       "      <td>Bachelor's degree</td>\n",
       "      <td>10,000 or more employees</td>\n",
       "      <td>Other</td>\n",
       "      <td>20 or more years</td>\n",
       "      <td>8</td>\n",
       "      <td>NaN</td>\n",
       "      <td>NaN</td>\n",
       "      <td>British pounds sterling (£)</td>\n",
       "      <td>NaN</td>\n",
       "      <td>113750</td>\n",
       "      <td>9</td>\n",
       "    </tr>\n",
       "    <tr>\n",
       "      <th>3</th>\n",
       "      <td>2017</td>\n",
       "      <td>United States</td>\n",
       "      <td>Employed full-time</td>\n",
       "      <td>Doctoral degree</td>\n",
       "      <td>10,000 or more employees</td>\n",
       "      <td>NaN</td>\n",
       "      <td>14 to 15 years</td>\n",
       "      <td>6</td>\n",
       "      <td>I am actively looking for a job</td>\n",
       "      <td>5</td>\n",
       "      <td>NaN</td>\n",
       "      <td>NaN</td>\n",
       "      <td>NaN</td>\n",
       "      <td>3</td>\n",
       "    </tr>\n",
       "    <tr>\n",
       "      <th>4</th>\n",
       "      <td>2017</td>\n",
       "      <td>Switzerland</td>\n",
       "      <td>Employed full-time</td>\n",
       "      <td>Master's degree</td>\n",
       "      <td>10 to 19 employees</td>\n",
       "      <td>Mobile developer; Graphics programming; Deskto...</td>\n",
       "      <td>20 or more years</td>\n",
       "      <td>6</td>\n",
       "      <td>NaN</td>\n",
       "      <td>NaN</td>\n",
       "      <td>NaN</td>\n",
       "      <td>NaN</td>\n",
       "      <td>NaN</td>\n",
       "      <td>8</td>\n",
       "    </tr>\n",
       "  </tbody>\n",
       "</table>\n",
       "</div>"
      ],
      "text/plain": [
       "   Year         Country                              Employment  \\\n",
       "0  2017   United States  Not employed, and not looking for work   \n",
       "1  2017  United Kingdom                      Employed part-time   \n",
       "2  2017  United Kingdom                      Employed full-time   \n",
       "3  2017   United States                      Employed full-time   \n",
       "4  2017     Switzerland                      Employed full-time   \n",
       "\n",
       "                                     FormalEducation  \\\n",
       "0                                   Secondary school   \n",
       "1  Some college/university study without earning ...   \n",
       "2                                  Bachelor's degree   \n",
       "3                                    Doctoral degree   \n",
       "4                                    Master's degree   \n",
       "\n",
       "                CompanySize  \\\n",
       "0                       NaN   \n",
       "1        20 to 99 employees   \n",
       "2  10,000 or more employees   \n",
       "3  10,000 or more employees   \n",
       "4        10 to 19 employees   \n",
       "\n",
       "                                             DevType       YearsCoding  \\\n",
       "0                                                NaN      2 to 3 years   \n",
       "1                                                NaN     9 to 10 years   \n",
       "2                                              Other  20 or more years   \n",
       "3                                                NaN    14 to 15 years   \n",
       "4  Mobile developer; Graphics programming; Deskto...  20 or more years   \n",
       "\n",
       "  CareerSatisfaction                                   JobSeekingStatus  \\\n",
       "0                NaN  I'm not actively looking, but I am open to new...   \n",
       "1                NaN                                                NaN   \n",
       "2                  8                                                NaN   \n",
       "3                  6                    I am actively looking for a job   \n",
       "4                  6                                                NaN   \n",
       "\n",
       "  HoursPerWeek                     Currency HowToPrepare  Salary  \\\n",
       "0            0                          NaN          NaN     NaN   \n",
       "1          NaN  British pounds sterling (£)          NaN     NaN   \n",
       "2          NaN  British pounds sterling (£)          NaN  113750   \n",
       "3            5                          NaN          NaN     NaN   \n",
       "4          NaN                          NaN          NaN     NaN   \n",
       "\n",
       "  JobSatisfaction  \n",
       "0             NaN  \n",
       "1             NaN  \n",
       "2               9  \n",
       "3               3  \n",
       "4               8  "
      ]
     },
     "execution_count": 65,
     "metadata": {},
     "output_type": "execute_result"
    }
   ],
   "source": [
    "df_allyears = pd.concat( [df17, df18, df19], ignore_index=True)\n",
    "\n",
    "df_allyears.head()"
   ]
  },
  {
   "cell_type": "markdown",
   "metadata": {},
   "source": [
    "## Clean Rows with no Countries"
   ]
  },
  {
   "cell_type": "code",
   "execution_count": 66,
   "metadata": {
    "ExecuteTime": {
     "end_time": "2020-11-09T13:27:29.171467Z",
     "start_time": "2020-11-09T13:27:29.059400Z"
    }
   },
   "outputs": [
    {
     "name": "stdout",
     "output_type": "stream",
     "text": [
      "(239130, 14)\n",
      "(238586, 14)\n"
     ]
    }
   ],
   "source": [
    "#Check if it worked + drop countries with no answers\n",
    "print(df_allyears.shape)\n",
    "\n",
    "df_allyears = df_allyears.dropna(subset=['Country'], how = 'any')\n",
    "print(df_allyears.shape)"
   ]
  },
  {
   "cell_type": "markdown",
   "metadata": {},
   "source": [
    "## Key Questions"
   ]
  },
  {
   "cell_type": "markdown",
   "metadata": {
    "ExecuteTime": {
     "end_time": "2020-05-03T02:55:09.338135Z",
     "start_time": "2020-05-03T02:55:09.335142Z"
    }
   },
   "source": [
    "### Brazil respondents over time?"
   ]
  },
  {
   "cell_type": "code",
   "execution_count": 67,
   "metadata": {
    "ExecuteTime": {
     "end_time": "2020-11-09T13:27:59.297505Z",
     "start_time": "2020-11-09T13:27:59.163467Z"
    }
   },
   "outputs": [
    {
     "name": "stdout",
     "output_type": "stream",
     "text": [
      "Total respondents from Brazil:\n",
      "5230\n",
      "Representing a total of:\n",
      "0.02192081681238631\n",
      "\n",
      "\n",
      "Total respondents from Brazil in each Year:\n",
      "2017     777\n",
      "2018    2505\n",
      "2019    1948\n",
      "Name: Year, dtype: int64\n",
      "\n",
      "\n",
      "2017    0.015119\n",
      "2018    0.025446\n",
      "2019    0.021949\n",
      "Name: Year, dtype: float64\n"
     ]
    }
   ],
   "source": [
    "#Questions Part 1) \n",
    "#How Many participants from Brazil? % of Total?\n",
    "#How Many participants from Brazil each year? % of Total each Year?\n",
    "#Are it growing or not? How is it growing compared with other relevant countries?\n",
    "\n",
    "df_allyears = df_allyears.dropna(subset=['Country'], how = 'any')\n",
    "\n",
    "print('Total respondents from Brazil:')\n",
    "print(df_allyears[df_allyears['Country'] == 'Brazil'].shape[0])\n",
    "print('Representing a total of:')\n",
    "print(df_allyears[df_allyears['Country'] == 'Brazil'].shape[0]/df_allyears.shape[0])\n",
    "\n",
    "print('\\n')\n",
    "\n",
    "print('Total respondents from Brazil in each Year:')\n",
    "print(df_allyears['Year'][df_allyears['Country'] == 'Brazil'].value_counts(sort=False))\n",
    "print('\\n')\n",
    "print(df_allyears['Year'][df_allyears['Country'] == 'Brazil'].value_counts(sort=False)/df_allyears['Year'].value_counts(sort=False))"
   ]
  },
  {
   "cell_type": "code",
   "execution_count": 111,
   "metadata": {
    "ExecuteTime": {
     "end_time": "2020-11-09T13:49:51.910003Z",
     "start_time": "2020-11-09T13:49:51.628621Z"
    },
    "scrolled": true
   },
   "outputs": [
    {
     "data": {
      "image/png": "[encoded data removed]",
      "text/plain": [
       "<Figure size 432x288 with 1 Axes>"
      ]
     },
     "metadata": {},
     "output_type": "display_data"
    }
   ],
   "source": [
    "#I will print a chart comparing different countries to make it more insightfull\n",
    "\n",
    "df_question1 = df_allyears.groupby(['Year', 'Country']).size().reset_index(name='Respondents')\n",
    "\n",
    "df_question1_Brazil = df_question1[df_question1['Country'] == 'Brazil']\n",
    "df_question1_USA = df_question1[df_question1['Country'] == 'United States']\n",
    "df_question1_UK = df_question1[df_question1['Country'] == 'United Kingdom']\n",
    "df_question1_Canada = df_question1[df_question1['Country'] == 'Canada']\n",
    "df_question1_Germany = df_question1[df_question1['Country'] == 'Germany']\n",
    "df_question1_India = df_question1[df_question1['Country'] == 'India']\n",
    "\n",
    "fig, ax = plt.subplots()\n",
    "ax.plot(df_question1_Brazil['Year'], df_question1_Brazil['Respondents'],color= 'green', fillstyle = 'full')\n",
    "ax.plot(df_question1_USA['Year'], df_question1_USA['Respondents'],color= 'blue', fillstyle = 'full')\n",
    "ax.plot(df_question1_UK['Year'], df_question1_UK['Respondents'],color= 'black', fillstyle = 'full')\n",
    "ax.plot(df_question1_Canada['Year'], df_question1_Canada['Respondents'],color= 'red', fillstyle = 'full')\n",
    "ax.plot(df_question1_Germany['Year'], df_question1_Germany['Respondents'],color= 'yellow', fillstyle = 'full')\n",
    "ax.plot(df_question1_India['Year'], df_question1_India['Respondents'],color= 'magenta', fillstyle = 'full')\n",
    "\n",
    "\n",
    "\n",
    "plt.show()"
   ]
  },
  {
   "cell_type": "code",
   "execution_count": null,
   "metadata": {},
   "outputs": [],
   "source": [
    "#Few conclusions (using # of respondents as a proxy to the number of DSs on the market(:\n",
    "\n",
    "    #Good indications that the market for DS is growing in Brazil  \n",
    "        #Significant increase in the number of respondents in Brazil from 2017-1018\n",
    "        #Small decrease from 2018-2019, but in line with other countries\n",
    "        \n",
    "    #Brazil have a huge gap of DSs to fill when comparing with the benchmark (we should expect a significan growth of the number of DS on comming years)\n",
    "        #Brazil has less than 3% of total respondents, losing for countries with much less population (e.g. UK, Canada, Germany) \n",
    "        #More developed countries (e.g. US, Germany and UK) have much more respondents\n",
    "\n",
    "    "
   ]
  },
  {
   "cell_type": "markdown",
   "metadata": {
    "ExecuteTime": {
     "end_time": "2020-05-03T02:42:50.468329Z",
     "start_time": "2020-05-03T02:42:50.456316Z"
    }
   },
   "source": [
    "### Salary and Job Satisfaction of Brazillian DS over time?"
   ]
  },
  {
   "cell_type": "code",
   "execution_count": 72,
   "metadata": {
    "ExecuteTime": {
     "end_time": "2020-11-09T13:35:42.364311Z",
     "start_time": "2020-11-09T13:35:42.164333Z"
    },
    "code_folding": []
   },
   "outputs": [
    {
     "name": "stdout",
     "output_type": "stream",
     "text": [
      "Shape before data cleaning\n",
      "(238586, 14)\n",
      "\n",
      "\n",
      "Shape after cleaning Country NAN values\n",
      "(238586, 14)\n",
      "\n",
      "\n",
      "Shape after cleaning Salary NAN values\n",
      "(119414, 14)\n",
      "\n",
      "\n",
      "(3030, 14)\n",
      "\n",
      "\n",
      "(3030,)\n",
      "\n",
      "\n"
     ]
    },
    {
     "data": {
      "text/html": [
       "<div>\n",
       "<style scoped>\n",
       "    .dataframe tbody tr th:only-of-type {\n",
       "        vertical-align: middle;\n",
       "    }\n",
       "\n",
       "    .dataframe tbody tr th {\n",
       "        vertical-align: top;\n",
       "    }\n",
       "\n",
       "    .dataframe thead th {\n",
       "        text-align: right;\n",
       "    }\n",
       "</style>\n",
       "<table border=\"1\" class=\"dataframe\">\n",
       "  <thead>\n",
       "    <tr style=\"text-align: right;\">\n",
       "      <th></th>\n",
       "      <th>Year</th>\n",
       "      <th>Country</th>\n",
       "      <th>Employment</th>\n",
       "      <th>FormalEducation</th>\n",
       "      <th>CompanySize</th>\n",
       "      <th>DevType</th>\n",
       "      <th>YearsCoding</th>\n",
       "      <th>CareerSatisfaction</th>\n",
       "      <th>JobSeekingStatus</th>\n",
       "      <th>HoursPerWeek</th>\n",
       "      <th>Currency</th>\n",
       "      <th>HowToPrepare</th>\n",
       "      <th>Salary</th>\n",
       "      <th>JobSatisfaction</th>\n",
       "    </tr>\n",
       "  </thead>\n",
       "  <tbody>\n",
       "    <tr>\n",
       "      <th>57802</th>\n",
       "      <td>2018</td>\n",
       "      <td>Brazil</td>\n",
       "      <td>Employed part-time</td>\n",
       "      <td>Secondary school (e.g. American high school, G...</td>\n",
       "      <td>1,000 to 4,999 employees</td>\n",
       "      <td>Full-stack developer;Student</td>\n",
       "      <td>0-2 years</td>\n",
       "      <td>Slightly dissatisfied</td>\n",
       "      <td>I’m not actively looking, but I am open to new...</td>\n",
       "      <td>5 - 8 hours</td>\n",
       "      <td>Brazilian reais (R$)</td>\n",
       "      <td>The official documentation and/or standards fo...</td>\n",
       "      <td>1500.0</td>\n",
       "      <td>Moderately dissatisfied</td>\n",
       "    </tr>\n",
       "    <tr>\n",
       "      <th>109109</th>\n",
       "      <td>2018</td>\n",
       "      <td>Brazil</td>\n",
       "      <td>Employed full-time</td>\n",
       "      <td>Bachelor’s degree (BA, BS, B.Eng., etc.)</td>\n",
       "      <td>Fewer than 10 employees</td>\n",
       "      <td>Full-stack developer</td>\n",
       "      <td>3-5 years</td>\n",
       "      <td>Moderately satisfied</td>\n",
       "      <td>I am not interested in new job opportunities</td>\n",
       "      <td>9 - 12 hours</td>\n",
       "      <td>Brazilian reais (R$)</td>\n",
       "      <td>The official documentation and/or standards fo...</td>\n",
       "      <td>1500.0</td>\n",
       "      <td>Moderately satisfied</td>\n",
       "    </tr>\n",
       "    <tr>\n",
       "      <th>59709</th>\n",
       "      <td>2018</td>\n",
       "      <td>Brazil</td>\n",
       "      <td>Employed part-time</td>\n",
       "      <td>Secondary school (e.g. American high school, G...</td>\n",
       "      <td>1,000 to 4,999 employees</td>\n",
       "      <td>Back-end developer;Desktop or enterprise appli...</td>\n",
       "      <td>0-2 years</td>\n",
       "      <td>Extremely satisfied</td>\n",
       "      <td>I am not interested in new job opportunities</td>\n",
       "      <td>NaN</td>\n",
       "      <td>Brazilian reais (R$)</td>\n",
       "      <td>The official documentation and/or standards fo...</td>\n",
       "      <td>1500.0</td>\n",
       "      <td>Moderately satisfied</td>\n",
       "    </tr>\n",
       "    <tr>\n",
       "      <th>106505</th>\n",
       "      <td>2018</td>\n",
       "      <td>Brazil</td>\n",
       "      <td>Employed full-time</td>\n",
       "      <td>Bachelor’s degree (BA, BS, B.Eng., etc.)</td>\n",
       "      <td>10 to 19 employees</td>\n",
       "      <td>Back-end developer;Data or business analyst;Da...</td>\n",
       "      <td>6-8 years</td>\n",
       "      <td>Moderately dissatisfied</td>\n",
       "      <td>I’m not actively looking, but I am open to new...</td>\n",
       "      <td>9 - 12 hours</td>\n",
       "      <td>Brazilian reais (R$)</td>\n",
       "      <td>NaN</td>\n",
       "      <td>1500.0</td>\n",
       "      <td>Slightly dissatisfied</td>\n",
       "    </tr>\n",
       "    <tr>\n",
       "      <th>114952</th>\n",
       "      <td>2018</td>\n",
       "      <td>Brazil</td>\n",
       "      <td>Employed part-time</td>\n",
       "      <td>NaN</td>\n",
       "      <td>Fewer than 10 employees</td>\n",
       "      <td>Back-end developer;Full-stack developer</td>\n",
       "      <td>0-2 years</td>\n",
       "      <td>Slightly dissatisfied</td>\n",
       "      <td>I’m not actively looking, but I am open to new...</td>\n",
       "      <td>5 - 8 hours</td>\n",
       "      <td>Brazilian reais (R$)</td>\n",
       "      <td>NaN</td>\n",
       "      <td>1500.0</td>\n",
       "      <td>Moderately dissatisfied</td>\n",
       "    </tr>\n",
       "  </tbody>\n",
       "</table>\n",
       "</div>"
      ],
      "text/plain": [
       "        Year Country          Employment  \\\n",
       "57802   2018  Brazil  Employed part-time   \n",
       "109109  2018  Brazil  Employed full-time   \n",
       "59709   2018  Brazil  Employed part-time   \n",
       "106505  2018  Brazil  Employed full-time   \n",
       "114952  2018  Brazil  Employed part-time   \n",
       "\n",
       "                                          FormalEducation  \\\n",
       "57802   Secondary school (e.g. American high school, G...   \n",
       "109109           Bachelor’s degree (BA, BS, B.Eng., etc.)   \n",
       "59709   Secondary school (e.g. American high school, G...   \n",
       "106505           Bachelor’s degree (BA, BS, B.Eng., etc.)   \n",
       "114952                                                NaN   \n",
       "\n",
       "                     CompanySize  \\\n",
       "57802   1,000 to 4,999 employees   \n",
       "109109   Fewer than 10 employees   \n",
       "59709   1,000 to 4,999 employees   \n",
       "106505        10 to 19 employees   \n",
       "114952   Fewer than 10 employees   \n",
       "\n",
       "                                                  DevType YearsCoding  \\\n",
       "57802                        Full-stack developer;Student   0-2 years   \n",
       "109109                               Full-stack developer   3-5 years   \n",
       "59709   Back-end developer;Desktop or enterprise appli...   0-2 years   \n",
       "106505  Back-end developer;Data or business analyst;Da...   6-8 years   \n",
       "114952            Back-end developer;Full-stack developer   0-2 years   \n",
       "\n",
       "             CareerSatisfaction  \\\n",
       "57802     Slightly dissatisfied   \n",
       "109109     Moderately satisfied   \n",
       "59709       Extremely satisfied   \n",
       "106505  Moderately dissatisfied   \n",
       "114952    Slightly dissatisfied   \n",
       "\n",
       "                                         JobSeekingStatus  HoursPerWeek  \\\n",
       "57802   I’m not actively looking, but I am open to new...   5 - 8 hours   \n",
       "109109       I am not interested in new job opportunities  9 - 12 hours   \n",
       "59709        I am not interested in new job opportunities           NaN   \n",
       "106505  I’m not actively looking, but I am open to new...  9 - 12 hours   \n",
       "114952  I’m not actively looking, but I am open to new...   5 - 8 hours   \n",
       "\n",
       "                    Currency  \\\n",
       "57802   Brazilian reais (R$)   \n",
       "109109  Brazilian reais (R$)   \n",
       "59709   Brazilian reais (R$)   \n",
       "106505  Brazilian reais (R$)   \n",
       "114952  Brazilian reais (R$)   \n",
       "\n",
       "                                             HowToPrepare  Salary  \\\n",
       "57802   The official documentation and/or standards fo...  1500.0   \n",
       "109109  The official documentation and/or standards fo...  1500.0   \n",
       "59709   The official documentation and/or standards fo...  1500.0   \n",
       "106505                                                NaN  1500.0   \n",
       "114952                                                NaN  1500.0   \n",
       "\n",
       "                JobSatisfaction  \n",
       "57802   Moderately dissatisfied  \n",
       "109109     Moderately satisfied  \n",
       "59709      Moderately satisfied  \n",
       "106505    Slightly dissatisfied  \n",
       "114952  Moderately dissatisfied  "
      ]
     },
     "execution_count": 72,
     "metadata": {},
     "output_type": "execute_result"
    }
   ],
   "source": [
    "#Questions Part 2) \n",
    "#How much a DS make in Brazil?\n",
    "#How satisfied they Brazil DS are with their careers?\n",
    "\n",
    "#Clen NAN values and adjust Salary data\n",
    "print('Shape before data cleaning')\n",
    "print(df_allyears.shape)\n",
    "\n",
    "print('\\n')\n",
    "\n",
    "\n",
    "print('Shape after cleaning Country NAN values')\n",
    "df_question2 = df_allyears.dropna(subset=['Country'], axis = 0, how = 'any', inplace = False)\n",
    "print(df_question2.shape)\n",
    "\n",
    "print('\\n')\n",
    "\n",
    "print('Shape after cleaning Salary NAN values')\n",
    "df_question2 = df_question2.dropna(subset=['Salary'],axis = 0, how = 'any', inplace = False)\n",
    "print(df_question2.shape)\n",
    "\n",
    "print('\\n')\n",
    "\n",
    "df_question2_Brazil = df_question2[df_question2['Country'] == 'Brazil']\n",
    "df_question2_Brazil.dtypes\n",
    "\n",
    "print(df_question2_Brazil.shape)\n",
    "\n",
    "print('\\n')\n",
    "\n",
    "df_question2_Brazil['Salary'] = pd.to_numeric(df_question2_Brazil['Salary'], errors = 'coerce').round(0)\n",
    "print(df_question2_Brazil['Salary'].shape)\n",
    "df_question2_Brazil = df_question2_Brazil.sort_values('Salary', ascending = True)\n",
    "df_question2_Brazil = df_question2_Brazil[df_question2_Brazil['Salary'] >= 1500]\n",
    "df_question2_Brazil = df_question2_Brazil[df_question2_Brazil['Salary'] <= 80000]\n",
    "\n",
    "\n",
    "print('\\n')\n",
    "\n",
    "df_question2_Brazil['Salary'].astype(float).round(0)\n",
    "df_question2_Brazil.head()\n",
    "\n"
   ]
  },
  {
   "cell_type": "code",
   "execution_count": 83,
   "metadata": {
    "ExecuteTime": {
     "end_time": "2020-11-09T13:37:25.869714Z",
     "start_time": "2020-11-09T13:37:25.819699Z"
    }
   },
   "outputs": [
    {
     "name": "stdout",
     "output_type": "stream",
     "text": [
      "         Year        Salary\n",
      "count  1209.0   1209.000000\n",
      "mean   2019.0   8140.575682\n",
      "std       0.0  10057.824218\n",
      "min    2019.0   1500.000000\n",
      "25%    2019.0   3200.000000\n",
      "50%    2019.0   5300.000000\n",
      "75%    2019.0   9000.000000\n",
      "max    2019.0  80000.000000\n",
      "\n",
      "\n",
      "         Year        Salary\n",
      "count  1115.0   1115.000000\n",
      "mean   2018.0   7934.005381\n",
      "std       0.0  11125.188024\n",
      "min    2018.0   1500.000000\n",
      "25%    2018.0   3000.000000\n",
      "50%    2018.0   5000.000000\n",
      "75%    2018.0   8000.000000\n",
      "max    2018.0  80000.000000\n",
      "\n",
      "\n",
      "         Year        Salary\n",
      "count   217.0    217.000000\n",
      "mean   2017.0  20967.341014\n",
      "std       0.0  14928.179648\n",
      "min    2017.0   1529.000000\n",
      "25%    2017.0   9287.000000\n",
      "50%    2017.0  17516.000000\n",
      "75%    2017.0  30255.000000\n",
      "max    2017.0  75269.000000\n",
      "\n",
      "\n"
     ]
    }
   ],
   "source": [
    "#Understand salaries in Brazil across past 3 years\n",
    "\n",
    "print(df_question2_Brazil[df_question2_Brazil['Year'] == 2019 ].describe())\n",
    "print('\\n')\n",
    "print(df_question2_Brazil[df_question2_Brazil['Year'] == 2018 ].describe())\n",
    "print('\\n')\n",
    "print(df_question2_Brazil[df_question2_Brazil['Year'] == 2017 ].describe())\n",
    "print('\\n')\n",
    "\n",
    "#print(format(df_question2_Brazil['Salary'].mean(), 'f'))"
   ]
  },
  {
   "cell_type": "code",
   "execution_count": 85,
   "metadata": {
    "ExecuteTime": {
     "end_time": "2020-11-09T13:39:18.452377Z",
     "start_time": "2020-11-09T13:39:18.154211Z"
    }
   },
   "outputs": [
    {
     "data": {
      "text/plain": [
       "<matplotlib.axes._subplots.AxesSubplot at 0x2c558703a20>"
      ]
     },
     "execution_count": 85,
     "metadata": {},
     "output_type": "execute_result"
    },
    {
     "data": {
      "image/png": "[encoded data removed]",
      "text/plain": [
       "<Figure size 432x288 with 1 Axes>"
      ]
     },
     "metadata": {},
     "output_type": "display_data"
    }
   ],
   "source": [
    "#Creating a histtogram to make it more visual (2019)\n",
    "\n",
    "\n",
    "df_question2_Brazil_2019 = df_question2_Brazil[df_question2_Brazil['Year'] == 2019]\n",
    "df_question2_Brazil_2018 = df_question2_Brazil[df_question2_Brazil['Year'] == 2018]\n",
    "df_question2_Brazil_2017 = df_question2_Brazil[df_question2_Brazil['Year'] == 2017]\n",
    "\n",
    "df_question2_Brazil_2019['Salary'].plot.hist(bins = 30, title = \"Salaries Brazil 2019\",color = \"orange\", edgecolor = \"black\")\n",
    "\n",
    "\n"
   ]
  },
  {
   "cell_type": "code",
   "execution_count": 86,
   "metadata": {
    "ExecuteTime": {
     "end_time": "2020-11-09T13:39:49.940552Z",
     "start_time": "2020-11-09T13:39:49.652581Z"
    }
   },
   "outputs": [
    {
     "data": {
      "text/plain": [
       "<matplotlib.axes._subplots.AxesSubplot at 0x2c5587b89e8>"
      ]
     },
     "execution_count": 86,
     "metadata": {},
     "output_type": "execute_result"
    },
    {
     "data": {
      "image/png": "[encoded data removed]",
      "text/plain": [
       "<Figure size 432x288 with 1 Axes>"
      ]
     },
     "metadata": {},
     "output_type": "display_data"
    }
   ],
   "source": [
    "#Creating a histtogram to make it more visual (2018)\n",
    "\n",
    "df_question2_Brazil_2018['Salary'].plot.hist(bins = 30, title = \"Salaries Brazil 2018\",color = \"blue\", edgecolor = \"black\")\n"
   ]
  },
  {
   "cell_type": "code",
   "execution_count": 100,
   "metadata": {
    "ExecuteTime": {
     "end_time": "2020-11-09T13:46:56.716602Z",
     "start_time": "2020-11-09T13:46:56.426521Z"
    }
   },
   "outputs": [
    {
     "data": {
      "text/plain": [
       "<matplotlib.axes._subplots.AxesSubplot at 0x2c5597c8048>"
      ]
     },
     "execution_count": 100,
     "metadata": {},
     "output_type": "execute_result"
    },
    {
     "data": {
      "image/png": "[encoded data removed]",
      "text/plain": [
       "<Figure size 432x288 with 1 Axes>"
      ]
     },
     "metadata": {},
     "output_type": "display_data"
    }
   ],
   "source": [
    "#Creating a histtogram to make it more visual (2017)\n",
    "\n",
    "df_question2_Brazil_2017['Salary'].plot.hist(bins = 30, title = \"Salaries Brazil 2017\",color = \"green\", edgecolor = \"black\")"
   ]
  },
  {
   "cell_type": "code",
   "execution_count": 102,
   "metadata": {
    "ExecuteTime": {
     "end_time": "2020-11-09T13:47:05.604459Z",
     "start_time": "2020-11-09T13:47:05.495741Z"
    }
   },
   "outputs": [
    {
     "name": "stdout",
     "output_type": "stream",
     "text": [
      "         Year        Salary\n",
      "count  1209.0   1209.000000\n",
      "mean   2019.0   8140.575682\n",
      "std       0.0  10057.824218\n",
      "min    2019.0   1500.000000\n",
      "25%    2019.0   3200.000000\n",
      "50%    2019.0   5300.000000\n",
      "75%    2019.0   9000.000000\n",
      "max    2019.0  80000.000000\n",
      "/n\n",
      "         Year        Salary\n",
      "count  1115.0   1115.000000\n",
      "mean   2018.0   7934.005381\n",
      "std       0.0  11125.188024\n",
      "min    2018.0   1500.000000\n",
      "25%    2018.0   3000.000000\n",
      "50%    2018.0   5000.000000\n",
      "75%    2018.0   8000.000000\n",
      "max    2018.0  80000.000000\n",
      "/n\n",
      "         Year  CareerSatisfaction        Salary\n",
      "count   217.0          217.000000    217.000000\n",
      "mean   2017.0            7.400922  20967.341014\n",
      "std       0.0            1.825894  14928.179648\n",
      "min    2017.0            0.000000   1529.000000\n",
      "25%    2017.0            7.000000   9287.000000\n",
      "50%    2017.0            8.000000  17516.000000\n",
      "75%    2017.0            8.000000  30255.000000\n",
      "max    2017.0           10.000000  75269.000000\n"
     ]
    }
   ],
   "source": [
    "#Understanding Career Satisfaction - obs: 2017 is the only year with numeric answers for this question\n",
    "\n",
    "df_question2_Brazil2019 = df_question2_Brazil[df_question2_Brazil['Year'] == 2019]\n",
    "\n",
    "df_question2_Brazil2018 = df_question2_Brazil[df_question2_Brazil['Year'] == 2018]\n",
    "\n",
    "df_question2_Brazil2017 = df_question2_Brazil[df_question2_Brazil['Year'] == 2017]\n",
    "df_question2_Brazil2017['CareerSatisfaction'] = pd.to_numeric(df_question2_Brazil['CareerSatisfaction'], errors = 'coerce').round(0)\n",
    "\n",
    "print(df_question2_Brazil2019.describe())\n",
    "print('/n')\n",
    "print(df_question2_Brazil2018.describe())\n",
    "print('/n')\n",
    "print(df_question2_Brazil2017.describe())"
   ]
  },
  {
   "cell_type": "code",
   "execution_count": 103,
   "metadata": {
    "ExecuteTime": {
     "end_time": "2020-11-09T13:47:08.195340Z",
     "start_time": "2020-11-09T13:47:07.929285Z"
    }
   },
   "outputs": [
    {
     "data": {
      "text/plain": [
       "8.0     0.317972\n",
       "7.0     0.225806\n",
       "9.0     0.142857\n",
       "6.0     0.105991\n",
       "10.0    0.096774\n",
       "5.0     0.036866\n",
       "4.0     0.027650\n",
       "3.0     0.023041\n",
       "0.0     0.009217\n",
       "2.0     0.009217\n",
       "1.0     0.004608\n",
       "Name: CareerSatisfaction, dtype: float64"
      ]
     },
     "execution_count": 103,
     "metadata": {},
     "output_type": "execute_result"
    },
    {
     "data": {
      "image/png": "[encoded data removed]",
      "text/plain": [
       "<Figure size 432x288 with 1 Axes>"
      ]
     },
     "metadata": {},
     "output_type": "display_data"
    }
   ],
   "source": [
    "#Adding to a histogram to make it more visual\n",
    "\n",
    "\n",
    "df_question2_Brazil2017['CareerSatisfaction'].plot.hist(bins = 5, title = \"Career Satisfaction - Brazil 2017\",color = \"green\", edgecolor = \"black\")\n",
    "\n",
    "df_question2_Brazil2017['CareerSatisfaction'].value_counts(normalize=True)\n"
   ]
  },
  {
   "cell_type": "code",
   "execution_count": 104,
   "metadata": {
    "ExecuteTime": {
     "end_time": "2020-11-09T13:47:12.424858Z",
     "start_time": "2020-11-09T13:47:10.986900Z"
    }
   },
   "outputs": [
    {
     "data": {
      "image/png": "[encoded data removed]",
      "text/plain": [
       "<Figure size 432x432 with 3 Axes>"
      ]
     },
     "metadata": {},
     "output_type": "display_data"
    },
    {
     "data": {
      "image/png": "[encoded data removed]",
      "text/plain": [
       "<Figure size 432x432 with 3 Axes>"
      ]
     },
     "metadata": {},
     "output_type": "display_data"
    }
   ],
   "source": [
    "#Trying to make a visual where I can compare salaries and satisfaction\n",
    "\n",
    "%matplotlib inline\n",
    "import seaborn as sns\n",
    "sns.set_style(\"darkgrid\")\n",
    "import warnings\n",
    "warnings.filterwarnings(\"ignore\")\n",
    "\n",
    "# Plot Career Satisfaction vs. Salary\n",
    "plt1 = sns.jointplot(x = df_question2_Brazil2017['CareerSatisfaction'], y = df_question2_Brazil2017['Salary'], kind = 'hex')\n",
    "\n",
    "# Plot Career Satisfaction vs. Salary\n",
    "plt2 = sns.jointplot(x = df_question2_Brazil2017['CareerSatisfaction'], y = df_question2_Brazil2017['Salary'])"
   ]
  },
  {
   "cell_type": "code",
   "execution_count": 105,
   "metadata": {
    "ExecuteTime": {
     "end_time": "2020-11-09T13:47:16.502012Z",
     "start_time": "2020-11-09T13:47:16.477192Z"
    }
   },
   "outputs": [
    {
     "data": {
      "text/html": [
       "<div>\n",
       "<style scoped>\n",
       "    .dataframe tbody tr th:only-of-type {\n",
       "        vertical-align: middle;\n",
       "    }\n",
       "\n",
       "    .dataframe tbody tr th {\n",
       "        vertical-align: top;\n",
       "    }\n",
       "\n",
       "    .dataframe thead th {\n",
       "        text-align: right;\n",
       "    }\n",
       "</style>\n",
       "<table border=\"1\" class=\"dataframe\">\n",
       "  <thead>\n",
       "    <tr style=\"text-align: right;\">\n",
       "      <th></th>\n",
       "      <th>Year</th>\n",
       "      <th>Country</th>\n",
       "      <th>Employment</th>\n",
       "      <th>FormalEducation</th>\n",
       "      <th>CompanySize</th>\n",
       "      <th>DevType</th>\n",
       "      <th>YearsCoding</th>\n",
       "      <th>CareerSatisfaction</th>\n",
       "      <th>JobSeekingStatus</th>\n",
       "      <th>HoursPerWeek</th>\n",
       "      <th>Currency</th>\n",
       "      <th>HowToPrepare</th>\n",
       "      <th>Salary</th>\n",
       "      <th>JobSatisfaction</th>\n",
       "    </tr>\n",
       "  </thead>\n",
       "  <tbody>\n",
       "    <tr>\n",
       "      <th>194708</th>\n",
       "      <td>2019</td>\n",
       "      <td>Brazil</td>\n",
       "      <td>Independent contractor, freelancer, or self-em...</td>\n",
       "      <td>Bachelor’s degree (BA, BS, B.Eng., etc.)</td>\n",
       "      <td>Just me - I am a freelancer, sole proprietor, ...</td>\n",
       "      <td>Data or business analyst;Data scientist or mac...</td>\n",
       "      <td>Less than 1 year</td>\n",
       "      <td>Slightly dissatisfied</td>\n",
       "      <td>I am actively looking for a job</td>\n",
       "      <td>60</td>\n",
       "      <td>Brazilian real</td>\n",
       "      <td>Write any code</td>\n",
       "      <td>1500.0</td>\n",
       "      <td>Slightly dissatisfied</td>\n",
       "    </tr>\n",
       "    <tr>\n",
       "      <th>199204</th>\n",
       "      <td>2019</td>\n",
       "      <td>Brazil</td>\n",
       "      <td>Employed part-time</td>\n",
       "      <td>Some college/university study without earning ...</td>\n",
       "      <td>20 to 99 employees</td>\n",
       "      <td>Academic researcher;Developer, back-end;Develo...</td>\n",
       "      <td>3</td>\n",
       "      <td>Very satisfied</td>\n",
       "      <td>I’m not actively looking, but I am open to new...</td>\n",
       "      <td>20</td>\n",
       "      <td>Brazilian real</td>\n",
       "      <td>Write any code;Write code by hand (e.g., on a ...</td>\n",
       "      <td>1500.0</td>\n",
       "      <td>Slightly satisfied</td>\n",
       "    </tr>\n",
       "    <tr>\n",
       "      <th>198417</th>\n",
       "      <td>2019</td>\n",
       "      <td>Brazil</td>\n",
       "      <td>Employed part-time</td>\n",
       "      <td>Bachelor’s degree (BA, BS, B.Eng., etc.)</td>\n",
       "      <td>20 to 99 employees</td>\n",
       "      <td>Data or business analyst;Data scientist or mac...</td>\n",
       "      <td>1</td>\n",
       "      <td>Very satisfied</td>\n",
       "      <td>I’m not actively looking, but I am open to new...</td>\n",
       "      <td>40</td>\n",
       "      <td>Brazilian real</td>\n",
       "      <td>Complete a take-home project;Interview with pe...</td>\n",
       "      <td>1500.0</td>\n",
       "      <td>Slightly satisfied</td>\n",
       "    </tr>\n",
       "    <tr>\n",
       "      <th>160462</th>\n",
       "      <td>2019</td>\n",
       "      <td>Brazil</td>\n",
       "      <td>Employed full-time</td>\n",
       "      <td>Bachelor’s degree (BA, BS, B.Eng., etc.)</td>\n",
       "      <td>2-9 employees</td>\n",
       "      <td>Developer, full-stack</td>\n",
       "      <td>4</td>\n",
       "      <td>Slightly dissatisfied</td>\n",
       "      <td>I’m not actively looking, but I am open to new...</td>\n",
       "      <td>45</td>\n",
       "      <td>Brazilian real</td>\n",
       "      <td>NaN</td>\n",
       "      <td>1500.0</td>\n",
       "      <td>Slightly dissatisfied</td>\n",
       "    </tr>\n",
       "    <tr>\n",
       "      <th>163198</th>\n",
       "      <td>2019</td>\n",
       "      <td>Brazil</td>\n",
       "      <td>Independent contractor, freelancer, or self-em...</td>\n",
       "      <td>Some college/university study without earning ...</td>\n",
       "      <td>Just me - I am a freelancer, sole proprietor, ...</td>\n",
       "      <td>Academic researcher;Data or business analyst;D...</td>\n",
       "      <td>7</td>\n",
       "      <td>Slightly satisfied</td>\n",
       "      <td>I’m not actively looking, but I am open to new...</td>\n",
       "      <td>15</td>\n",
       "      <td>Brazilian real</td>\n",
       "      <td>Interview with people in peer roles;Interview ...</td>\n",
       "      <td>1500.0</td>\n",
       "      <td>Very satisfied</td>\n",
       "    </tr>\n",
       "  </tbody>\n",
       "</table>\n",
       "</div>"
      ],
      "text/plain": [
       "        Year Country                                         Employment  \\\n",
       "194708  2019  Brazil  Independent contractor, freelancer, or self-em...   \n",
       "199204  2019  Brazil                                 Employed part-time   \n",
       "198417  2019  Brazil                                 Employed part-time   \n",
       "160462  2019  Brazil                                 Employed full-time   \n",
       "163198  2019  Brazil  Independent contractor, freelancer, or self-em...   \n",
       "\n",
       "                                          FormalEducation  \\\n",
       "194708           Bachelor’s degree (BA, BS, B.Eng., etc.)   \n",
       "199204  Some college/university study without earning ...   \n",
       "198417           Bachelor’s degree (BA, BS, B.Eng., etc.)   \n",
       "160462           Bachelor’s degree (BA, BS, B.Eng., etc.)   \n",
       "163198  Some college/university study without earning ...   \n",
       "\n",
       "                                              CompanySize  \\\n",
       "194708  Just me - I am a freelancer, sole proprietor, ...   \n",
       "199204                                 20 to 99 employees   \n",
       "198417                                 20 to 99 employees   \n",
       "160462                                      2-9 employees   \n",
       "163198  Just me - I am a freelancer, sole proprietor, ...   \n",
       "\n",
       "                                                  DevType       YearsCoding  \\\n",
       "194708  Data or business analyst;Data scientist or mac...  Less than 1 year   \n",
       "199204  Academic researcher;Developer, back-end;Develo...                 3   \n",
       "198417  Data or business analyst;Data scientist or mac...                 1   \n",
       "160462                              Developer, full-stack                 4   \n",
       "163198  Academic researcher;Data or business analyst;D...                 7   \n",
       "\n",
       "           CareerSatisfaction  \\\n",
       "194708  Slightly dissatisfied   \n",
       "199204         Very satisfied   \n",
       "198417         Very satisfied   \n",
       "160462  Slightly dissatisfied   \n",
       "163198     Slightly satisfied   \n",
       "\n",
       "                                         JobSeekingStatus HoursPerWeek  \\\n",
       "194708                    I am actively looking for a job           60   \n",
       "199204  I’m not actively looking, but I am open to new...           20   \n",
       "198417  I’m not actively looking, but I am open to new...           40   \n",
       "160462  I’m not actively looking, but I am open to new...           45   \n",
       "163198  I’m not actively looking, but I am open to new...           15   \n",
       "\n",
       "              Currency                                       HowToPrepare  \\\n",
       "194708  Brazilian real                                     Write any code   \n",
       "199204  Brazilian real  Write any code;Write code by hand (e.g., on a ...   \n",
       "198417  Brazilian real  Complete a take-home project;Interview with pe...   \n",
       "160462  Brazilian real                                                NaN   \n",
       "163198  Brazilian real  Interview with people in peer roles;Interview ...   \n",
       "\n",
       "        Salary        JobSatisfaction  \n",
       "194708  1500.0  Slightly dissatisfied  \n",
       "199204  1500.0     Slightly satisfied  \n",
       "198417  1500.0     Slightly satisfied  \n",
       "160462  1500.0  Slightly dissatisfied  \n",
       "163198  1500.0         Very satisfied  "
      ]
     },
     "execution_count": 105,
     "metadata": {},
     "output_type": "execute_result"
    }
   ],
   "source": [
    "#Breaking data from 2019 so I can analyse it for Career Satisfaction\n",
    "\n",
    "df_question2_Brazil2019 == df_question2_Brazil[df_question2_Brazil['Year'] == 2019]\n",
    "\n",
    "df_question2_Brazil2019.head()"
   ]
  },
  {
   "cell_type": "code",
   "execution_count": 106,
   "metadata": {
    "ExecuteTime": {
     "end_time": "2020-11-09T13:47:18.440494Z",
     "start_time": "2020-11-09T13:47:18.433473Z"
    }
   },
   "outputs": [
    {
     "data": {
      "text/plain": [
       "Slightly satisfied                    0.387924\n",
       "Very satisfied                        0.291150\n",
       "Slightly dissatisfied                 0.157155\n",
       "Neither satisfied nor dissatisfied    0.099256\n",
       "Very dissatisfied                     0.064516\n",
       "Name: CareerSatisfaction, dtype: float64"
      ]
     },
     "execution_count": 106,
     "metadata": {},
     "output_type": "execute_result"
    }
   ],
   "source": [
    "#Analysing Career Satisfaction for 2019\n",
    "\n",
    "df_question2_Brazil2019['CareerSatisfaction'].value_counts(normalize=True)\n"
   ]
  },
  {
   "cell_type": "code",
   "execution_count": 107,
   "metadata": {
    "ExecuteTime": {
     "end_time": "2020-11-09T13:47:20.606928Z",
     "start_time": "2020-11-09T13:47:20.322947Z"
    }
   },
   "outputs": [
    {
     "data": {
      "text/plain": [
       "Text(0.5, 1.0, 'Salary trend across Career Satisfaction levels (2019)')"
      ]
     },
     "execution_count": 107,
     "metadata": {},
     "output_type": "execute_result"
    },
    {
     "data": {
      "image/png": "[encoded data removed]",
      "text/plain": [
       "<Figure size 1080x576 with 1 Axes>"
      ]
     },
     "metadata": {},
     "output_type": "display_data"
    }
   ],
   "source": [
    "#Trying to make a plot to make it more visual for 2019\n",
    "\n",
    "import matplotlib.pyplot as plt\n",
    "fig, ax = plt.subplots()\n",
    "fig.set_size_inches(15, 8)\n",
    "\n",
    "# Select a few popular app categories\n",
    "Common_Category_Lvls = df_question2_Brazil2019[df_question2_Brazil2019.CareerSatisfaction.isin(['Slightly satisfied', 'Extremely satisfied', 'Slightly dissatisfied', 'Neither satisfied nor dissatisfied', 'Extremely dissatisfied'\n",
    "])]\n",
    "\n",
    "# Examine the price trend by plotting Price vs Category\n",
    "ax = sns.stripplot(x = df_question2_Brazil2019['CareerSatisfaction'], y = df_question2_Brazil2019['Salary'], jitter=True, linewidth=1)\n",
    "ax.set_title('Salary trend across Career Satisfaction levels (2019)')\n"
   ]
  },
  {
   "cell_type": "code",
   "execution_count": 108,
   "metadata": {
    "ExecuteTime": {
     "end_time": "2020-11-09T13:47:22.700526Z",
     "start_time": "2020-11-09T13:47:22.675525Z"
    }
   },
   "outputs": [
    {
     "data": {
      "text/html": [
       "<div>\n",
       "<style scoped>\n",
       "    .dataframe tbody tr th:only-of-type {\n",
       "        vertical-align: middle;\n",
       "    }\n",
       "\n",
       "    .dataframe tbody tr th {\n",
       "        vertical-align: top;\n",
       "    }\n",
       "\n",
       "    .dataframe thead th {\n",
       "        text-align: right;\n",
       "    }\n",
       "</style>\n",
       "<table border=\"1\" class=\"dataframe\">\n",
       "  <thead>\n",
       "    <tr style=\"text-align: right;\">\n",
       "      <th></th>\n",
       "      <th>Year</th>\n",
       "      <th>Country</th>\n",
       "      <th>Employment</th>\n",
       "      <th>FormalEducation</th>\n",
       "      <th>CompanySize</th>\n",
       "      <th>DevType</th>\n",
       "      <th>YearsCoding</th>\n",
       "      <th>CareerSatisfaction</th>\n",
       "      <th>JobSeekingStatus</th>\n",
       "      <th>HoursPerWeek</th>\n",
       "      <th>Currency</th>\n",
       "      <th>HowToPrepare</th>\n",
       "      <th>Salary</th>\n",
       "      <th>JobSatisfaction</th>\n",
       "    </tr>\n",
       "  </thead>\n",
       "  <tbody>\n",
       "    <tr>\n",
       "      <th>57802</th>\n",
       "      <td>2018</td>\n",
       "      <td>Brazil</td>\n",
       "      <td>Employed part-time</td>\n",
       "      <td>Secondary school (e.g. American high school, G...</td>\n",
       "      <td>1,000 to 4,999 employees</td>\n",
       "      <td>Full-stack developer;Student</td>\n",
       "      <td>0-2 years</td>\n",
       "      <td>Slightly dissatisfied</td>\n",
       "      <td>I’m not actively looking, but I am open to new...</td>\n",
       "      <td>5 - 8 hours</td>\n",
       "      <td>Brazilian reais (R$)</td>\n",
       "      <td>The official documentation and/or standards fo...</td>\n",
       "      <td>1500.0</td>\n",
       "      <td>Moderately dissatisfied</td>\n",
       "    </tr>\n",
       "    <tr>\n",
       "      <th>109109</th>\n",
       "      <td>2018</td>\n",
       "      <td>Brazil</td>\n",
       "      <td>Employed full-time</td>\n",
       "      <td>Bachelor’s degree (BA, BS, B.Eng., etc.)</td>\n",
       "      <td>Fewer than 10 employees</td>\n",
       "      <td>Full-stack developer</td>\n",
       "      <td>3-5 years</td>\n",
       "      <td>Moderately satisfied</td>\n",
       "      <td>I am not interested in new job opportunities</td>\n",
       "      <td>9 - 12 hours</td>\n",
       "      <td>Brazilian reais (R$)</td>\n",
       "      <td>The official documentation and/or standards fo...</td>\n",
       "      <td>1500.0</td>\n",
       "      <td>Moderately satisfied</td>\n",
       "    </tr>\n",
       "    <tr>\n",
       "      <th>59709</th>\n",
       "      <td>2018</td>\n",
       "      <td>Brazil</td>\n",
       "      <td>Employed part-time</td>\n",
       "      <td>Secondary school (e.g. American high school, G...</td>\n",
       "      <td>1,000 to 4,999 employees</td>\n",
       "      <td>Back-end developer;Desktop or enterprise appli...</td>\n",
       "      <td>0-2 years</td>\n",
       "      <td>Extremely satisfied</td>\n",
       "      <td>I am not interested in new job opportunities</td>\n",
       "      <td>NaN</td>\n",
       "      <td>Brazilian reais (R$)</td>\n",
       "      <td>The official documentation and/or standards fo...</td>\n",
       "      <td>1500.0</td>\n",
       "      <td>Moderately satisfied</td>\n",
       "    </tr>\n",
       "    <tr>\n",
       "      <th>106505</th>\n",
       "      <td>2018</td>\n",
       "      <td>Brazil</td>\n",
       "      <td>Employed full-time</td>\n",
       "      <td>Bachelor’s degree (BA, BS, B.Eng., etc.)</td>\n",
       "      <td>10 to 19 employees</td>\n",
       "      <td>Back-end developer;Data or business analyst;Da...</td>\n",
       "      <td>6-8 years</td>\n",
       "      <td>Moderately dissatisfied</td>\n",
       "      <td>I’m not actively looking, but I am open to new...</td>\n",
       "      <td>9 - 12 hours</td>\n",
       "      <td>Brazilian reais (R$)</td>\n",
       "      <td>NaN</td>\n",
       "      <td>1500.0</td>\n",
       "      <td>Slightly dissatisfied</td>\n",
       "    </tr>\n",
       "    <tr>\n",
       "      <th>114952</th>\n",
       "      <td>2018</td>\n",
       "      <td>Brazil</td>\n",
       "      <td>Employed part-time</td>\n",
       "      <td>NaN</td>\n",
       "      <td>Fewer than 10 employees</td>\n",
       "      <td>Back-end developer;Full-stack developer</td>\n",
       "      <td>0-2 years</td>\n",
       "      <td>Slightly dissatisfied</td>\n",
       "      <td>I’m not actively looking, but I am open to new...</td>\n",
       "      <td>5 - 8 hours</td>\n",
       "      <td>Brazilian reais (R$)</td>\n",
       "      <td>NaN</td>\n",
       "      <td>1500.0</td>\n",
       "      <td>Moderately dissatisfied</td>\n",
       "    </tr>\n",
       "  </tbody>\n",
       "</table>\n",
       "</div>"
      ],
      "text/plain": [
       "        Year Country          Employment  \\\n",
       "57802   2018  Brazil  Employed part-time   \n",
       "109109  2018  Brazil  Employed full-time   \n",
       "59709   2018  Brazil  Employed part-time   \n",
       "106505  2018  Brazil  Employed full-time   \n",
       "114952  2018  Brazil  Employed part-time   \n",
       "\n",
       "                                          FormalEducation  \\\n",
       "57802   Secondary school (e.g. American high school, G...   \n",
       "109109           Bachelor’s degree (BA, BS, B.Eng., etc.)   \n",
       "59709   Secondary school (e.g. American high school, G...   \n",
       "106505           Bachelor’s degree (BA, BS, B.Eng., etc.)   \n",
       "114952                                                NaN   \n",
       "\n",
       "                     CompanySize  \\\n",
       "57802   1,000 to 4,999 employees   \n",
       "109109   Fewer than 10 employees   \n",
       "59709   1,000 to 4,999 employees   \n",
       "106505        10 to 19 employees   \n",
       "114952   Fewer than 10 employees   \n",
       "\n",
       "                                                  DevType YearsCoding  \\\n",
       "57802                        Full-stack developer;Student   0-2 years   \n",
       "109109                               Full-stack developer   3-5 years   \n",
       "59709   Back-end developer;Desktop or enterprise appli...   0-2 years   \n",
       "106505  Back-end developer;Data or business analyst;Da...   6-8 years   \n",
       "114952            Back-end developer;Full-stack developer   0-2 years   \n",
       "\n",
       "             CareerSatisfaction  \\\n",
       "57802     Slightly dissatisfied   \n",
       "109109     Moderately satisfied   \n",
       "59709       Extremely satisfied   \n",
       "106505  Moderately dissatisfied   \n",
       "114952    Slightly dissatisfied   \n",
       "\n",
       "                                         JobSeekingStatus  HoursPerWeek  \\\n",
       "57802   I’m not actively looking, but I am open to new...   5 - 8 hours   \n",
       "109109       I am not interested in new job opportunities  9 - 12 hours   \n",
       "59709        I am not interested in new job opportunities           NaN   \n",
       "106505  I’m not actively looking, but I am open to new...  9 - 12 hours   \n",
       "114952  I’m not actively looking, but I am open to new...   5 - 8 hours   \n",
       "\n",
       "                    Currency  \\\n",
       "57802   Brazilian reais (R$)   \n",
       "109109  Brazilian reais (R$)   \n",
       "59709   Brazilian reais (R$)   \n",
       "106505  Brazilian reais (R$)   \n",
       "114952  Brazilian reais (R$)   \n",
       "\n",
       "                                             HowToPrepare  Salary  \\\n",
       "57802   The official documentation and/or standards fo...  1500.0   \n",
       "109109  The official documentation and/or standards fo...  1500.0   \n",
       "59709   The official documentation and/or standards fo...  1500.0   \n",
       "106505                                                NaN  1500.0   \n",
       "114952                                                NaN  1500.0   \n",
       "\n",
       "                JobSatisfaction  \n",
       "57802   Moderately dissatisfied  \n",
       "109109     Moderately satisfied  \n",
       "59709      Moderately satisfied  \n",
       "106505    Slightly dissatisfied  \n",
       "114952  Moderately dissatisfied  "
      ]
     },
     "execution_count": 108,
     "metadata": {},
     "output_type": "execute_result"
    }
   ],
   "source": [
    "#Breaking data from 2018 so I can analyse it for Career Satisfaction\n",
    "\n",
    "df_question2_Brazil2018 == df_question2_Brazil[df_question2_Brazil['Year'] == 2018]\n",
    "\n",
    "df_question2_Brazil2018.head()"
   ]
  },
  {
   "cell_type": "code",
   "execution_count": 109,
   "metadata": {
    "ExecuteTime": {
     "end_time": "2020-11-09T13:47:28.049497Z",
     "start_time": "2020-11-09T13:47:28.041493Z"
    }
   },
   "outputs": [
    {
     "data": {
      "text/plain": [
       "Moderately satisfied                  0.336051\n",
       "Slightly satisfied                    0.194746\n",
       "Extremely satisfied                   0.130435\n",
       "Slightly dissatisfied                 0.127717\n",
       "Moderately dissatisfied               0.100543\n",
       "Neither satisfied nor dissatisfied    0.067029\n",
       "Extremely dissatisfied                0.043478\n",
       "Name: CareerSatisfaction, dtype: float64"
      ]
     },
     "execution_count": 109,
     "metadata": {},
     "output_type": "execute_result"
    }
   ],
   "source": [
    "#Analysing Career Satisfaction for 2018\n",
    "\n",
    "df_question2_Brazil2018['CareerSatisfaction'].value_counts(normalize=True)\n"
   ]
  },
  {
   "cell_type": "code",
   "execution_count": 110,
   "metadata": {
    "ExecuteTime": {
     "end_time": "2020-11-09T13:47:30.582897Z",
     "start_time": "2020-11-09T13:47:30.268368Z"
    }
   },
   "outputs": [
    {
     "data": {
      "text/plain": [
       "Text(0.5, 1.0, 'Salary trend across Career Satisfaction levels (2018)')"
      ]
     },
     "execution_count": 110,
     "metadata": {},
     "output_type": "execute_result"
    },
    {
     "data": {
      "image/png": "[encoded data removed]",
      "text/plain": [
       "<Figure size 1080x576 with 1 Axes>"
      ]
     },
     "metadata": {},
     "output_type": "display_data"
    }
   ],
   "source": [
    "#Trying to make a plot to make it more visual for 2018\n",
    "\n",
    "import matplotlib.pyplot as plt\n",
    "fig, ax = plt.subplots()\n",
    "fig.set_size_inches(15, 8)\n",
    "\n",
    "# Select a few popular app categories\n",
    "Common_Category_Lvls = df_question2_Brazil2018[df_question2_Brazil2018.CareerSatisfaction.isin(['Moderately satisfied','Slightly satisfied', 'Extremely satisfied', 'Slightly dissatisfied', 'Moderately dissatisfied', 'Neither satisfied nor dissatisfied', 'Extremely dissatisfied'\n",
    "])]\n",
    "\n",
    "# Examine the price trend by plotting Price vs Category\n",
    "ax = sns.stripplot(x = df_question2_Brazil2018['CareerSatisfaction'], y = df_question2_Brazil2018['Salary'], jitter=True, linewidth=1)\n",
    "ax.set_title('Salary trend across Career Satisfaction levels (2018)')\n"
   ]
  },
  {
   "cell_type": "code",
   "execution_count": 31,
   "metadata": {
    "ExecuteTime": {
     "end_time": "2020-11-06T16:01:00.614327Z",
     "start_time": "2020-11-06T16:01:00.611322Z"
    }
   },
   "outputs": [],
   "source": [
    "#Few conclusions:\n",
    "\n",
    "    #1) ~68% DS are satisfied with their career in 2019\n",
    "\n",
    "        #obs: This sounds robust since 2018 (~66%) and 2019 (~78% graded 7 or more on their career satisfaction level)\n",
    "\n",
    "    \n",
    "    #2) Those who have a significant salary (+35k/year) use to be satisfied with their careers \n",
    "\n",
    "        #obs: This looks consistent across the years:\n",
    "\n",
    "        #2017: DS with salarys of +35K/ year has almost all graded 6 or more on career satisfaction;\n",
    "        #2018 and 2019: DS with salarys of +35K/ year rarely position theirselves as dissatisfied on their careers;\n"
   ]
  },
  {
   "cell_type": "markdown",
   "metadata": {
    "ExecuteTime": {
     "end_time": "2020-06-05T00:18:29.646627Z",
     "start_time": "2020-06-05T00:18:29.643629Z"
    }
   },
   "source": [
    "### How is the Brazillian DS Profile?"
   ]
  },
  {
   "cell_type": "code",
   "execution_count": 114,
   "metadata": {
    "ExecuteTime": {
     "end_time": "2020-11-09T14:03:31.722574Z",
     "start_time": "2020-11-09T14:03:31.558896Z"
    }
   },
   "outputs": [
    {
     "name": "stdout",
     "output_type": "stream",
     "text": [
      "Shape before data cleaning\n",
      "(2541, 14)\n",
      "\n",
      "\n",
      "Shape after cleaning FormalEducation NAN values\n",
      "(2521, 14)\n",
      "\n",
      "\n",
      "Shape after cleaning YearsCoding NAN values\n",
      "(2518, 14)\n",
      "\n",
      "\n",
      "\n",
      "\n",
      "(2541,)\n",
      "\n",
      "\n"
     ]
    },
    {
     "data": {
      "text/html": [
       "<div>\n",
       "<style scoped>\n",
       "    .dataframe tbody tr th:only-of-type {\n",
       "        vertical-align: middle;\n",
       "    }\n",
       "\n",
       "    .dataframe tbody tr th {\n",
       "        vertical-align: top;\n",
       "    }\n",
       "\n",
       "    .dataframe thead th {\n",
       "        text-align: right;\n",
       "    }\n",
       "</style>\n",
       "<table border=\"1\" class=\"dataframe\">\n",
       "  <thead>\n",
       "    <tr style=\"text-align: right;\">\n",
       "      <th></th>\n",
       "      <th>Year</th>\n",
       "      <th>Country</th>\n",
       "      <th>Employment</th>\n",
       "      <th>FormalEducation</th>\n",
       "      <th>CompanySize</th>\n",
       "      <th>DevType</th>\n",
       "      <th>YearsCoding</th>\n",
       "      <th>CareerSatisfaction</th>\n",
       "      <th>JobSeekingStatus</th>\n",
       "      <th>HoursPerWeek</th>\n",
       "      <th>Currency</th>\n",
       "      <th>HowToPrepare</th>\n",
       "      <th>Salary</th>\n",
       "      <th>JobSatisfaction</th>\n",
       "    </tr>\n",
       "  </thead>\n",
       "  <tbody>\n",
       "    <tr>\n",
       "      <th>57802</th>\n",
       "      <td>2018</td>\n",
       "      <td>Brazil</td>\n",
       "      <td>Employed part-time</td>\n",
       "      <td>Secondary school (e.g. American high school, G...</td>\n",
       "      <td>1,000 to 4,999 employees</td>\n",
       "      <td>Full-stack developer;Student</td>\n",
       "      <td>0-2 years</td>\n",
       "      <td>Slightly dissatisfied</td>\n",
       "      <td>I’m not actively looking, but I am open to new...</td>\n",
       "      <td>5 - 8 hours</td>\n",
       "      <td>Brazilian reais (R$)</td>\n",
       "      <td>The official documentation and/or standards fo...</td>\n",
       "      <td>1500.0</td>\n",
       "      <td>Moderately dissatisfied</td>\n",
       "    </tr>\n",
       "    <tr>\n",
       "      <th>123670</th>\n",
       "      <td>2018</td>\n",
       "      <td>Brazil</td>\n",
       "      <td>Employed full-time</td>\n",
       "      <td>Bachelor’s degree (BA, BS, B.Eng., etc.)</td>\n",
       "      <td>NaN</td>\n",
       "      <td>Back-end developer;Data scientist or machine l...</td>\n",
       "      <td>6-8 years</td>\n",
       "      <td>Extremely dissatisfied</td>\n",
       "      <td>I am not interested in new job opportunities</td>\n",
       "      <td>5 - 8 hours</td>\n",
       "      <td>Brazilian reais (R$)</td>\n",
       "      <td>The official documentation and/or standards fo...</td>\n",
       "      <td>1500.0</td>\n",
       "      <td>Moderately dissatisfied</td>\n",
       "    </tr>\n",
       "    <tr>\n",
       "      <th>66977</th>\n",
       "      <td>2018</td>\n",
       "      <td>Brazil</td>\n",
       "      <td>Employed part-time</td>\n",
       "      <td>Bachelor’s degree (BA, BS, B.Eng., etc.)</td>\n",
       "      <td>10 to 19 employees</td>\n",
       "      <td>Back-end developer;Desktop or enterprise appli...</td>\n",
       "      <td>6-8 years</td>\n",
       "      <td>Slightly satisfied</td>\n",
       "      <td>I’m not actively looking, but I am open to new...</td>\n",
       "      <td>9 - 12 hours</td>\n",
       "      <td>Brazilian reais (R$)</td>\n",
       "      <td>The official documentation and/or standards fo...</td>\n",
       "      <td>1500.0</td>\n",
       "      <td>Moderately satisfied</td>\n",
       "    </tr>\n",
       "    <tr>\n",
       "      <th>123325</th>\n",
       "      <td>2018</td>\n",
       "      <td>Brazil</td>\n",
       "      <td>Independent contractor, freelancer, or self-em...</td>\n",
       "      <td>Bachelor’s degree (BA, BS, B.Eng., etc.)</td>\n",
       "      <td>NaN</td>\n",
       "      <td>C-suite executive (CEO, CTO, etc.);Designer;Fu...</td>\n",
       "      <td>3-5 years</td>\n",
       "      <td>Extremely satisfied</td>\n",
       "      <td>I am actively looking for a job</td>\n",
       "      <td>9 - 12 hours</td>\n",
       "      <td>Brazilian reais (R$)</td>\n",
       "      <td>The official documentation and/or standards fo...</td>\n",
       "      <td>1500.0</td>\n",
       "      <td>Slightly satisfied</td>\n",
       "    </tr>\n",
       "    <tr>\n",
       "      <th>102792</th>\n",
       "      <td>2018</td>\n",
       "      <td>Brazil</td>\n",
       "      <td>Employed full-time</td>\n",
       "      <td>Some college/university study without earning ...</td>\n",
       "      <td>Fewer than 10 employees</td>\n",
       "      <td>Back-end developer;Designer;Desktop or enterpr...</td>\n",
       "      <td>3-5 years</td>\n",
       "      <td>Moderately satisfied</td>\n",
       "      <td>I’m not actively looking, but I am open to new...</td>\n",
       "      <td>5 - 8 hours</td>\n",
       "      <td>Brazilian reais (R$)</td>\n",
       "      <td>The official documentation and/or standards fo...</td>\n",
       "      <td>1500.0</td>\n",
       "      <td>Moderately satisfied</td>\n",
       "    </tr>\n",
       "  </tbody>\n",
       "</table>\n",
       "</div>"
      ],
      "text/plain": [
       "        Year Country                                         Employment  \\\n",
       "57802   2018  Brazil                                 Employed part-time   \n",
       "123670  2018  Brazil                                 Employed full-time   \n",
       "66977   2018  Brazil                                 Employed part-time   \n",
       "123325  2018  Brazil  Independent contractor, freelancer, or self-em...   \n",
       "102792  2018  Brazil                                 Employed full-time   \n",
       "\n",
       "                                          FormalEducation  \\\n",
       "57802   Secondary school (e.g. American high school, G...   \n",
       "123670           Bachelor’s degree (BA, BS, B.Eng., etc.)   \n",
       "66977            Bachelor’s degree (BA, BS, B.Eng., etc.)   \n",
       "123325           Bachelor’s degree (BA, BS, B.Eng., etc.)   \n",
       "102792  Some college/university study without earning ...   \n",
       "\n",
       "                     CompanySize  \\\n",
       "57802   1,000 to 4,999 employees   \n",
       "123670                       NaN   \n",
       "66977         10 to 19 employees   \n",
       "123325                       NaN   \n",
       "102792   Fewer than 10 employees   \n",
       "\n",
       "                                                  DevType YearsCoding  \\\n",
       "57802                        Full-stack developer;Student   0-2 years   \n",
       "123670  Back-end developer;Data scientist or machine l...   6-8 years   \n",
       "66977   Back-end developer;Desktop or enterprise appli...   6-8 years   \n",
       "123325  C-suite executive (CEO, CTO, etc.);Designer;Fu...   3-5 years   \n",
       "102792  Back-end developer;Designer;Desktop or enterpr...   3-5 years   \n",
       "\n",
       "            CareerSatisfaction  \\\n",
       "57802    Slightly dissatisfied   \n",
       "123670  Extremely dissatisfied   \n",
       "66977       Slightly satisfied   \n",
       "123325     Extremely satisfied   \n",
       "102792    Moderately satisfied   \n",
       "\n",
       "                                         JobSeekingStatus  HoursPerWeek  \\\n",
       "57802   I’m not actively looking, but I am open to new...   5 - 8 hours   \n",
       "123670       I am not interested in new job opportunities   5 - 8 hours   \n",
       "66977   I’m not actively looking, but I am open to new...  9 - 12 hours   \n",
       "123325                    I am actively looking for a job  9 - 12 hours   \n",
       "102792  I’m not actively looking, but I am open to new...   5 - 8 hours   \n",
       "\n",
       "                    Currency  \\\n",
       "57802   Brazilian reais (R$)   \n",
       "123670  Brazilian reais (R$)   \n",
       "66977   Brazilian reais (R$)   \n",
       "123325  Brazilian reais (R$)   \n",
       "102792  Brazilian reais (R$)   \n",
       "\n",
       "                                             HowToPrepare  Salary  \\\n",
       "57802   The official documentation and/or standards fo...  1500.0   \n",
       "123670  The official documentation and/or standards fo...  1500.0   \n",
       "66977   The official documentation and/or standards fo...  1500.0   \n",
       "123325  The official documentation and/or standards fo...  1500.0   \n",
       "102792  The official documentation and/or standards fo...  1500.0   \n",
       "\n",
       "                JobSatisfaction  \n",
       "57802   Moderately dissatisfied  \n",
       "123670  Moderately dissatisfied  \n",
       "66977      Moderately satisfied  \n",
       "123325       Slightly satisfied  \n",
       "102792     Moderately satisfied  "
      ]
     },
     "execution_count": 114,
     "metadata": {},
     "output_type": "execute_result"
    }
   ],
   "source": [
    "#Questions Part 3) \n",
    "#What are common formal education on DS in Brazil?\n",
    "#How many hours of code they have? How it relates to salary?\n",
    "\n",
    "#Clen NAN values and adjust Hours of Code/ formal education from question 3\n",
    "\n",
    "print('Shape before data cleaning')\n",
    "print(df_question2_Brazil.shape)\n",
    "\n",
    "print('\\n')\n",
    "\n",
    "\n",
    "print('Shape after cleaning FormalEducation NAN values')\n",
    "df_question3_Brazil = df_question2_Brazil.dropna(subset=['FormalEducation'], axis = 0, how = 'any', inplace = False)\n",
    "print(df_question3_Brazil.shape)\n",
    "\n",
    "print('\\n')\n",
    "\n",
    "print('Shape after cleaning YearsCoding NAN values')\n",
    "df_question3_Brazil = df_question3_Brazil.dropna(subset=['YearsCoding'],axis = 0, how = 'any', inplace = False)\n",
    "print(df_question3_Brazil.shape)\n",
    "\n",
    "print('\\n')\n",
    "print('\\n')\n",
    "\n",
    "df_question3_Brazil['Salary'] = pd.to_numeric(df_question2_Brazil['Salary'], errors = 'coerce').round(0)\n",
    "print(df_question2_Brazil['Salary'].shape)\n",
    "df_question3_Brazil = df_question3_Brazil.sort_values('Salary', ascending = True)\n",
    "df_question3_Brazil = df_question3_Brazil[df_question3_Brazil['Salary'] >= 1500]\n",
    "df_question3_Brazil = df_question3_Brazil[df_question3_Brazil['Salary'] <= 80000]\n",
    "\n",
    "\n",
    "print('\\n')\n",
    "\n",
    "df_question3_Brazil['Salary'].astype(float).round(0)\n",
    "df_question3_Brazil.head()\n"
   ]
  },
  {
   "cell_type": "code",
   "execution_count": 116,
   "metadata": {
    "ExecuteTime": {
     "end_time": "2020-11-09T14:04:16.235638Z",
     "start_time": "2020-11-09T14:04:16.218725Z"
    }
   },
   "outputs": [
    {
     "name": "stdout",
     "output_type": "stream",
     "text": [
      "\n",
      "\n",
      "\n",
      "\n",
      "Understand Formal Education Across the years\n",
      "\n",
      "\n",
      "\n",
      "\n",
      "2019\n",
      "Bachelor’s degree (BA, BS, B.Eng., etc.)                                              0.527987\n",
      "Some college/university study without earning a degree                                0.183793\n",
      "Master’s degree (MA, MS, M.Eng., MBA, etc.)                                           0.134503\n",
      "Secondary school (e.g. American high school, German Realschule or Gymnasium, etc.)    0.061821\n",
      "Associate degree                                                                      0.045113\n",
      "Professional degree (JD, MD, etc.)                                                    0.024227\n",
      "Other doctoral degree (Ph.D, Ed.D., etc.)                                             0.014202\n",
      "Primary/elementary school                                                             0.004177\n",
      "I never completed any formal education                                                0.004177\n",
      "Name: FormalEducation, dtype: float64\n",
      "\n",
      "\n",
      "2018\n",
      "Bachelor’s degree (BA, BS, B.Eng., etc.)                                              0.549819\n",
      "Some college/university study without earning a degree                                0.163949\n",
      "Master’s degree (MA, MS, M.Eng., MBA, etc.)                                           0.128623\n",
      "Secondary school (e.g. American high school, German Realschule or Gymnasium, etc.)    0.071558\n",
      "Associate degree                                                                      0.039855\n",
      "Professional degree (JD, MD, etc.)                                                    0.028080\n",
      "Other doctoral degree (Ph.D, Ed.D., etc.)                                             0.009964\n",
      "Primary/elementary school                                                             0.006341\n",
      "I never completed any formal education                                                0.001812\n",
      "Name: FormalEducation, dtype: float64\n",
      "\n",
      "\n",
      "2017\n",
      "Bachelor's degree                                                    0.529954\n",
      "Some college/university study without earning a bachelor's degree    0.175115\n",
      "Master's degree                                                      0.133641\n",
      "Secondary school                                                     0.115207\n",
      "Professional degree                                                  0.023041\n",
      "Doctoral degree                                                      0.009217\n",
      "I prefer not to answer                                               0.009217\n",
      "I never completed any formal education                               0.004608\n",
      "Name: FormalEducation, dtype: float64\n"
     ]
    }
   ],
   "source": [
    "#Question 1) What are common formal education on DS in Brazil?\n",
    "\n",
    "print('\\n')\n",
    "print('\\n')\n",
    "\n",
    "print('Understand Formal Education Across the years')\n",
    "\n",
    "print('\\n')\n",
    "print('\\n')\n",
    "\n",
    "print('2019')\n",
    "#Select data from 2019\n",
    "df_question3_Brazil_2019 = df_question3_Brazil[df_question3_Brazil['Year'] == 2019]\n",
    "\n",
    "print(df_question3_Brazil_2019['FormalEducation'].value_counts(normalize=True))\n",
    "\n",
    "print('\\n')\n",
    "\n",
    "print('2018')\n",
    "#Select data from 2018\n",
    "df_question3_Brazil_2018 = df_question3_Brazil[df_question3_Brazil['Year'] == 2018]\n",
    "\n",
    "print(df_question3_Brazil_2018['FormalEducation'].value_counts(normalize=True))\n",
    "\n",
    "print('\\n')\n",
    "\n",
    "print('2017')\n",
    "#Select data from 2017\n",
    "df_question3_Brazil_2017 = df_question3_Brazil[df_question3_Brazil['Year'] == 2017]\n",
    "\n",
    "print(df_question3_Brazil_2017['FormalEducation'].value_counts(normalize=True))"
   ]
  },
  {
   "cell_type": "code",
   "execution_count": null,
   "metadata": {},
   "outputs": [],
   "source": [
    "#A few conclusions:\n",
    "\n",
    "    #Most of DSs in Brazil have some sort of formal, 'high level' education (i.e. BA or Master)"
   ]
  },
  {
   "cell_type": "code",
   "execution_count": 117,
   "metadata": {
    "ExecuteTime": {
     "end_time": "2020-11-09T14:06:04.807220Z",
     "start_time": "2020-11-09T14:06:04.789701Z"
    }
   },
   "outputs": [
    {
     "name": "stdout",
     "output_type": "stream",
     "text": [
      "\n",
      "\n",
      "\n",
      "\n",
      "Understand Years of coding across the years\n",
      "\n",
      "\n",
      "\n",
      "\n",
      "2019\n",
      "2                   0.115288\n",
      "4                   0.100251\n",
      "5                   0.080201\n",
      "3                   0.079365\n",
      "6                   0.073517\n",
      "10                  0.065998\n",
      "7                   0.058480\n",
      "8                   0.053467\n",
      "1                   0.045113\n",
      "9                   0.038429\n",
      "12                  0.033417\n",
      "15                  0.030075\n",
      "Less than 1 year    0.030075\n",
      "11                  0.024227\n",
      "20                  0.021721\n",
      "13                  0.020886\n",
      "18                  0.020050\n",
      "17                  0.018379\n",
      "19                  0.016708\n",
      "14                  0.015038\n",
      "21                  0.010860\n",
      "22                  0.010025\n",
      "25                  0.008354\n",
      "30                  0.006683\n",
      "23                  0.005848\n",
      "16                  0.005013\n",
      "32                  0.002506\n",
      "26                  0.002506\n",
      "33                  0.001671\n",
      "40                  0.001671\n",
      "28                  0.001671\n",
      "35                  0.000835\n",
      "31                  0.000835\n",
      "24                  0.000835\n",
      "Name: YearsCoding, dtype: float64\n",
      "\n",
      "\n",
      "2018\n",
      "6-8 years           0.261775\n",
      "9-11 years          0.218297\n",
      "3-5 years           0.187500\n",
      "12-14 years         0.105072\n",
      "15-17 years         0.067935\n",
      "18-20 years         0.067029\n",
      "0-2 years           0.032609\n",
      "21-23 years         0.026268\n",
      "30 or more years    0.019928\n",
      "24-26 years         0.008152\n",
      "27-29 years         0.005435\n",
      "Name: YearsCoding, dtype: float64\n",
      "\n",
      "\n",
      "2017\n",
      "20 or more years    0.133641\n",
      "5 to 6 years        0.119816\n",
      "9 to 10 years       0.087558\n",
      "10 to 11 years      0.078341\n",
      "7 to 8 years        0.064516\n",
      "15 to 16 years      0.055300\n",
      "6 to 7 years        0.055300\n",
      "4 to 5 years        0.055300\n",
      "8 to 9 years        0.055300\n",
      "14 to 15 years      0.055300\n",
      "12 to 13 years      0.041475\n",
      "2 to 3 years        0.032258\n",
      "13 to 14 years      0.027650\n",
      "1 to 2 years        0.027650\n",
      "3 to 4 years        0.027650\n",
      "11 to 12 years      0.023041\n",
      "19 to 20 years      0.018433\n",
      "17 to 18 years      0.018433\n",
      "16 to 17 years      0.018433\n",
      "Less than a year    0.004608\n",
      "Name: YearsCoding, dtype: float64\n"
     ]
    }
   ],
   "source": [
    "#Question 2) How many hours of code they have? How it relates to salary?\n",
    "\n",
    "print('\\n')\n",
    "print('\\n')\n",
    "\n",
    "print('Understand Years of coding across the years')\n",
    "\n",
    "print('\\n')\n",
    "print('\\n')\n",
    "\n",
    "print('2019')\n",
    "#Select data from 2019\n",
    "\n",
    "print(df_question3_Brazil_2019['YearsCoding'].value_counts(normalize=True))\n",
    "\n",
    "print('\\n')\n",
    "\n",
    "print('2018')\n",
    "#Select data from 2018\n",
    "\n",
    "print(df_question3_Brazil_2018['YearsCoding'].value_counts(normalize=True))\n",
    "\n",
    "print('\\n')\n",
    "\n",
    "print('2017')\n",
    "#Select data from 2017\n",
    "\n",
    "print(df_question3_Brazil_2017['YearsCoding'].value_counts(normalize=True))"
   ]
  },
  {
   "cell_type": "code",
   "execution_count": 133,
   "metadata": {
    "ExecuteTime": {
     "end_time": "2020-11-09T14:18:42.177744Z",
     "start_time": "2020-11-09T14:18:40.459534Z"
    },
    "scrolled": true
   },
   "outputs": [
    {
     "data": {
      "image/png": "[encoded data removed]",
      "text/plain": [
       "<Figure size 432x432 with 3 Axes>"
      ]
     },
     "metadata": {},
     "output_type": "display_data"
    },
    {
     "data": {
      "image/png": "[encoded data removed]",
      "text/plain": [
       "<Figure size 432x432 with 3 Axes>"
      ]
     },
     "metadata": {},
     "output_type": "display_data"
    }
   ],
   "source": [
    "#Use a visual to understand if there is a strong correlation between YearsCoding and Salary\n",
    "\n",
    "%matplotlib inline\n",
    "import seaborn as sns\n",
    "sns.set_style(\"darkgrid\")\n",
    "import warnings\n",
    "warnings.filterwarnings(\"ignore\")\n",
    "\n",
    "#Substitute all per numeric characters\n",
    "df_question3_Brazil_2019['YearsCoding'] = df_question3_Brazil_2019['YearsCoding'].replace('Less than 1 year', '0').astype(int)\n",
    "\n",
    "\n",
    "# Plot YearsCoding vs. Salary\n",
    "plt1_Q3 = sns.jointplot(x = df_question3_Brazil_2019['YearsCoding'], y = df_question3_Brazil_2019['Salary'], kind = 'hex')\n",
    "\n",
    "# Plot YearsCoding vs. Salary\n",
    "plt2_Q3 = sns.jointplot(x = df_question3_Brazil_2019['YearsCoding'], y = df_question3_Brazil_2019['Salary'])"
   ]
  },
  {
   "cell_type": "code",
   "execution_count": 135,
   "metadata": {
    "ExecuteTime": {
     "end_time": "2020-11-09T14:30:44.652472Z",
     "start_time": "2020-11-09T14:30:44.649470Z"
    }
   },
   "outputs": [],
   "source": [
    "#A few conclusions:\n",
    "\n",
    "    #Most of Brazil DS have not not much expertise (Years of Coding) \n",
    "        #In 2019 most of respondends ~45% have 6 years or less coding\n",
    "    \n",
    "    #Looks like there is other factors than YearsCoding that can determine the Salary for DSs\n",
    "        #On the visual, looks like there is very weak correlation between YearsCoding and Salary\n",
    "        #For 2019, visual shows that while there concentration of DSs making ~U$20K/ year or less\n",
    "        #DSs making more than U$20K/ year are very scatter regarding YearsCoding (most of cases with less than 15 years of experience)"
   ]
  },
  {
   "cell_type": "code",
   "execution_count": null,
   "metadata": {},
   "outputs": [],
   "source": []
  }
 ],
 "metadata": {
  "kernelspec": {
   "display_name": "Python 3",
   "language": "python",
   "name": "python3"
  },
  "language_info": {
   "codemirror_mode": {
    "name": "ipython",
    "version": 3
   },
   "file_extension": ".py",
   "mimetype": "text/x-python",
   "name": "python",
   "nbconvert_exporter": "python",
   "pygments_lexer": "ipython3",
   "version": "3.7.3"
  },
  "toc": {
   "base_numbering": 1,
   "nav_menu": {},
   "number_sections": true,
   "sideBar": true,
   "skip_h1_title": false,
   "title_cell": "Table of Contents",
   "title_sidebar": "Contents",
   "toc_cell": true,
   "toc_position": {
    "height": "668.142px",
    "left": "26px",
    "top": "110.966px",
    "width": "334.925px"
   },
   "toc_section_display": true,
   "toc_window_display": true
  }
 },
 "nbformat": 4,
 "nbformat_minor": 2
}
